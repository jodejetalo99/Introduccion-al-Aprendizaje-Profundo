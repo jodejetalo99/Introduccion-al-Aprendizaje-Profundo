{
  "nbformat": 4,
  "nbformat_minor": 0,
  "metadata": {
    "colab": {
      "name": "Proyecto_AP.ipynb",
      "provenance": [],
      "collapsed_sections": [],
      "include_colab_link": true
    },
    "kernelspec": {
      "display_name": "Python 3",
      "language": "python",
      "name": "python3"
    },
    "language_info": {
      "codemirror_mode": {
        "name": "ipython",
        "version": 3
      },
      "file_extension": ".py",
      "mimetype": "text/x-python",
      "name": "python",
      "nbconvert_exporter": "python",
      "pygments_lexer": "ipython3",
      "version": "3.8.5"
    },
    "widgets": {
      "application/vnd.jupyter.widget-state+json": {
        "fdb22631251c4066837f387a7f4d3b9a": {
          "model_module": "@jupyter-widgets/controls",
          "model_name": "HBoxModel",
          "state": {
            "_view_name": "HBoxView",
            "_dom_classes": [],
            "_model_name": "HBoxModel",
            "_view_module": "@jupyter-widgets/controls",
            "_model_module_version": "1.5.0",
            "_view_count": null,
            "_view_module_version": "1.5.0",
            "box_style": "",
            "layout": "IPY_MODEL_9c9bf60b15b540a7886bf8d6c95beadc",
            "_model_module": "@jupyter-widgets/controls",
            "children": [
              "IPY_MODEL_9e5c40b58cbd46f6bbf96d16e4641c6a",
              "IPY_MODEL_1f90cd5fa6484a2da3e988ed8da6a9ee"
            ]
          }
        },
        "9c9bf60b15b540a7886bf8d6c95beadc": {
          "model_module": "@jupyter-widgets/base",
          "model_name": "LayoutModel",
          "state": {
            "_view_name": "LayoutView",
            "grid_template_rows": null,
            "right": null,
            "justify_content": null,
            "_view_module": "@jupyter-widgets/base",
            "overflow": null,
            "_model_module_version": "1.2.0",
            "_view_count": null,
            "flex_flow": null,
            "width": null,
            "min_width": null,
            "border": null,
            "align_items": null,
            "bottom": null,
            "_model_module": "@jupyter-widgets/base",
            "top": null,
            "grid_column": null,
            "overflow_y": null,
            "overflow_x": null,
            "grid_auto_flow": null,
            "grid_area": null,
            "grid_template_columns": null,
            "flex": null,
            "_model_name": "LayoutModel",
            "justify_items": null,
            "grid_row": null,
            "max_height": null,
            "align_content": null,
            "visibility": null,
            "align_self": null,
            "height": null,
            "min_height": null,
            "padding": null,
            "grid_auto_rows": null,
            "grid_gap": null,
            "max_width": null,
            "order": null,
            "_view_module_version": "1.2.0",
            "grid_template_areas": null,
            "object_position": null,
            "object_fit": null,
            "grid_auto_columns": null,
            "margin": null,
            "display": null,
            "left": null
          }
        },
        "9e5c40b58cbd46f6bbf96d16e4641c6a": {
          "model_module": "@jupyter-widgets/controls",
          "model_name": "FloatProgressModel",
          "state": {
            "_view_name": "ProgressView",
            "style": "IPY_MODEL_e6ae766991f6439faf0cde6265db530c",
            "_dom_classes": [],
            "description": "100%",
            "_model_name": "FloatProgressModel",
            "bar_style": "success",
            "max": 337926286,
            "_view_module": "@jupyter-widgets/controls",
            "_model_module_version": "1.5.0",
            "value": 337926286,
            "_view_count": null,
            "_view_module_version": "1.5.0",
            "orientation": "horizontal",
            "min": 0,
            "description_tooltip": null,
            "_model_module": "@jupyter-widgets/controls",
            "layout": "IPY_MODEL_945d3d7f486848d88476b946fbb9134d"
          }
        },
        "1f90cd5fa6484a2da3e988ed8da6a9ee": {
          "model_module": "@jupyter-widgets/controls",
          "model_name": "HTMLModel",
          "state": {
            "_view_name": "HTMLView",
            "style": "IPY_MODEL_2c1447df1e1446e5be1b87eddafd3584",
            "_dom_classes": [],
            "description": "",
            "_model_name": "HTMLModel",
            "placeholder": "​",
            "_view_module": "@jupyter-widgets/controls",
            "_model_module_version": "1.5.0",
            "value": " 322M/322M [00:15&lt;00:00, 21.6MB/s]",
            "_view_count": null,
            "_view_module_version": "1.5.0",
            "description_tooltip": null,
            "_model_module": "@jupyter-widgets/controls",
            "layout": "IPY_MODEL_ee60f7034cea441a8b405c20f0de13a7"
          }
        },
        "e6ae766991f6439faf0cde6265db530c": {
          "model_module": "@jupyter-widgets/controls",
          "model_name": "ProgressStyleModel",
          "state": {
            "_view_name": "StyleView",
            "_model_name": "ProgressStyleModel",
            "description_width": "initial",
            "_view_module": "@jupyter-widgets/base",
            "_model_module_version": "1.5.0",
            "_view_count": null,
            "_view_module_version": "1.2.0",
            "bar_color": null,
            "_model_module": "@jupyter-widgets/controls"
          }
        },
        "945d3d7f486848d88476b946fbb9134d": {
          "model_module": "@jupyter-widgets/base",
          "model_name": "LayoutModel",
          "state": {
            "_view_name": "LayoutView",
            "grid_template_rows": null,
            "right": null,
            "justify_content": null,
            "_view_module": "@jupyter-widgets/base",
            "overflow": null,
            "_model_module_version": "1.2.0",
            "_view_count": null,
            "flex_flow": null,
            "width": null,
            "min_width": null,
            "border": null,
            "align_items": null,
            "bottom": null,
            "_model_module": "@jupyter-widgets/base",
            "top": null,
            "grid_column": null,
            "overflow_y": null,
            "overflow_x": null,
            "grid_auto_flow": null,
            "grid_area": null,
            "grid_template_columns": null,
            "flex": null,
            "_model_name": "LayoutModel",
            "justify_items": null,
            "grid_row": null,
            "max_height": null,
            "align_content": null,
            "visibility": null,
            "align_self": null,
            "height": null,
            "min_height": null,
            "padding": null,
            "grid_auto_rows": null,
            "grid_gap": null,
            "max_width": null,
            "order": null,
            "_view_module_version": "1.2.0",
            "grid_template_areas": null,
            "object_position": null,
            "object_fit": null,
            "grid_auto_columns": null,
            "margin": null,
            "display": null,
            "left": null
          }
        },
        "2c1447df1e1446e5be1b87eddafd3584": {
          "model_module": "@jupyter-widgets/controls",
          "model_name": "DescriptionStyleModel",
          "state": {
            "_view_name": "StyleView",
            "_model_name": "DescriptionStyleModel",
            "description_width": "",
            "_view_module": "@jupyter-widgets/base",
            "_model_module_version": "1.5.0",
            "_view_count": null,
            "_view_module_version": "1.2.0",
            "_model_module": "@jupyter-widgets/controls"
          }
        },
        "ee60f7034cea441a8b405c20f0de13a7": {
          "model_module": "@jupyter-widgets/base",
          "model_name": "LayoutModel",
          "state": {
            "_view_name": "LayoutView",
            "grid_template_rows": null,
            "right": null,
            "justify_content": null,
            "_view_module": "@jupyter-widgets/base",
            "overflow": null,
            "_model_module_version": "1.2.0",
            "_view_count": null,
            "flex_flow": null,
            "width": null,
            "min_width": null,
            "border": null,
            "align_items": null,
            "bottom": null,
            "_model_module": "@jupyter-widgets/base",
            "top": null,
            "grid_column": null,
            "overflow_y": null,
            "overflow_x": null,
            "grid_auto_flow": null,
            "grid_area": null,
            "grid_template_columns": null,
            "flex": null,
            "_model_name": "LayoutModel",
            "justify_items": null,
            "grid_row": null,
            "max_height": null,
            "align_content": null,
            "visibility": null,
            "align_self": null,
            "height": null,
            "min_height": null,
            "padding": null,
            "grid_auto_rows": null,
            "grid_gap": null,
            "max_width": null,
            "order": null,
            "_view_module_version": "1.2.0",
            "grid_template_areas": null,
            "object_position": null,
            "object_fit": null,
            "grid_auto_columns": null,
            "margin": null,
            "display": null,
            "left": null
          }
        }
      }
    }
  },
  "cells": [
    {
      "cell_type": "markdown",
      "metadata": {
        "id": "view-in-github",
        "colab_type": "text"
      },
      "source": [
        "<a href=\"https://colab.research.google.com/github/jodejetalo99/Introduccion-al-Aprendizaje-Profundo/blob/main/Proyecto/Proyecto_AP.ipynb\" target=\"_parent\"><img src=\"https://colab.research.google.com/assets/colab-badge.svg\" alt=\"Open In Colab\"/></a>"
      ]
    },
    {
      "cell_type": "markdown",
      "metadata": {
        "id": "20HTYY30n-gm"
      },
      "source": [
        "# Proyecto: Conteo y clasificación por audio\n",
        "### Universidad Nacional Autónoma de México\n",
        "### Licenciatura en Ciencia de Datos\n",
        "## - Martiñón Luna Jonathan José\n",
        "## - Tapia López José de Jesús"
      ]
    },
    {
      "cell_type": "markdown",
      "metadata": {
        "id": "ZtX59O7HndD2"
      },
      "source": [
        "# Importando Librerías"
      ]
    },
    {
      "cell_type": "code",
      "metadata": {
        "id": "b9ZBeDSaqqAc",
        "outputId": "4e8f28a7-c0a7-4543-ddca-e987e036a6ea",
        "colab": {
          "base_uri": "https://localhost:8080/"
        }
      },
      "source": [
        "from os.path import join\n",
        "import librosa\n",
        "import librosa.display\n",
        "import IPython as ip\n",
        "try:\n",
        "    import torchaudio\n",
        "except:\n",
        "    !pip install torchaudio\n",
        "    import torchaudio\n",
        "import torch\n",
        "import json\n",
        "from random import randint, seed, choice\n",
        "from time import time\n",
        "import pylab \n",
        "\n",
        "import pandas as pd\n",
        "from matplotlib import pyplot as plt\n",
        "import numpy as np\n",
        "\n",
        "#Almacenamiento de audio\n",
        "import scipy.io.wavfile as waves\n"
      ],
      "execution_count": 1,
      "outputs": [
        {
          "output_type": "stream",
          "text": [
            "Collecting torchaudio\n",
            "\u001b[?25l  Downloading https://files.pythonhosted.org/packages/aa/55/01ad9244bcd595e39cea5ce30726a7fe02fd963d07daeb136bfe7e23f0a5/torchaudio-0.8.1-cp37-cp37m-manylinux1_x86_64.whl (1.9MB)\n",
            "\u001b[K     |████████████████████████████████| 1.9MB 4.0MB/s \n",
            "\u001b[?25hRequirement already satisfied: torch==1.8.1 in /usr/local/lib/python3.7/dist-packages (from torchaudio) (1.8.1+cu101)\n",
            "Requirement already satisfied: numpy in /usr/local/lib/python3.7/dist-packages (from torch==1.8.1->torchaudio) (1.19.5)\n",
            "Requirement already satisfied: typing-extensions in /usr/local/lib/python3.7/dist-packages (from torch==1.8.1->torchaudio) (3.7.4.3)\n",
            "Installing collected packages: torchaudio\n",
            "Successfully installed torchaudio-0.8.1\n"
          ],
          "name": "stdout"
        }
      ]
    },
    {
      "cell_type": "markdown",
      "metadata": {
        "id": "73P3E-k_nhGY"
      },
      "source": [
        "# Funciones"
      ]
    },
    {
      "cell_type": "code",
      "metadata": {
        "id": "OCjDvMb0IbE5"
      },
      "source": [
        "def corta_audio(registro):\n",
        "    '''\n",
        "    \n",
        "    @Autor: José de Jesús Tapia López\n",
        "    \n",
        "    @Descripción:  Función encargada de recortar el audio.\n",
        "                   Teniendo en cuenta que podemos tener de\n",
        "                   distintas duraciones. Nos aseguraremos\n",
        "                   de tomar una sección aleatoria con dura-\n",
        "                   ción de 1 segundo\n",
        "    \n",
        "    @Parámetros:\n",
        "    \n",
        "    registro       Registro del conjunto de datos que contiene    TUPLE\n",
        "                   el audio a cortar. \n",
        "    \n",
        "    @Devuelve:     Audio del registro, recortado. \n",
        "    '''\n",
        "    \n",
        "    # Obtenemos la longitud total del audio\n",
        "    lon = len(registro[0][0])\n",
        "\n",
        "    # Generamos un aleatorio de 0 a la longitud - 16,000\n",
        "    # Para capturar sólo una sección aleatorio, pero asegurándonos de \n",
        "    # Que podrá ser de 16,000\n",
        "    start = randint(0,lon-16000)\n",
        "\n",
        "    # Una vez que tenemos el inicio, bastará con sumarle 1600\n",
        "    # Para determinar el final\n",
        "    finish = start + 16000\n",
        "\n",
        "    # Devolvemos nuestra onda como arreglo de numpy\n",
        "    return registro[0][0][start:finish].squeeze().numpy()\n",
        "    "
      ],
      "execution_count": 2,
      "outputs": []
    },
    {
      "cell_type": "code",
      "metadata": {
        "id": "yNouQPFdt_Tk"
      },
      "source": [
        "def Encuentra_Registro(data,id,speakers_df):\n",
        "    '''\n",
        "    \n",
        "    @Autor: Jonathan José Martiñón Luna\n",
        "    \n",
        "    @Descripción:   Dado que nuestros registros se encontraban con \n",
        "                    estructura de tuplas, no encontramos otra forma\n",
        "                    sino buscar en cada elemento, hasta extraer aquella\n",
        "                    con el id de speaker seleccionado :c.\n",
        "                    Si convertíamos a DataFrame, se llevaba la RAM.\n",
        "\n",
        "    @Parámetros:\n",
        "    \n",
        "    data            Conjunto de datos donde obtendremos el registro    LIST\n",
        "    id              Id de speaker a buscar su registro                 INT\n",
        "    speakers_df     DataFrame con 1 columna llamada \"Speakers_id\"      DataFrame\n",
        "                    con el objetivo de encontrar las posiciones\n",
        "                    que corresponden al id buscado\n",
        "                    \n",
        "    @Devuelve:      Registro en forma de tupla de los elementos\n",
        "    '''\n",
        "\n",
        "    # Aislamos a las coincidencias en nuestro ID\n",
        "    # Luego, obtenemos los índices para conocer su posición en la lista\n",
        "    # Finalmente, para tener variedad, seleccionamos un audio aleatorio\n",
        "    idx = choice(list(speakers_df[speakers_df[\"Speakers_id\"]==id].index))\n",
        "\n",
        "    # Devolvemos el audio seleccionado\n",
        "    return data[idx]"
      ],
      "execution_count": 3,
      "outputs": []
    },
    {
      "cell_type": "code",
      "metadata": {
        "id": "1ccXbnGyIbFD"
      },
      "source": [
        "def recolecta_registro(sex,data_Masc,data_Fem, audios, Speakers_df):\n",
        "    '''\n",
        "    \n",
        "    @Autor: José de Jesús Tapia López\n",
        "    \n",
        "    @Descripción:   Función encargada de buscar un hablante aleatorio.\n",
        "                    sea hombre o mujer. Y de dicho hablante, obtener \n",
        "                    sus datos\n",
        "\n",
        "    @Parámetros:\n",
        "    \n",
        "    sex            sexo del hablante a buscar          INT\n",
        "    data_Masc      DataFrame que contiene los datos    DataFrame\n",
        "                   de los hablantes Masculinos \n",
        "                   (metadatos)\n",
        "    data_Fem       DataFrame que contiene los datos    DataFrame\n",
        "                   de los hablantes Femeninos \n",
        "                   (metadatos)\n",
        "    audios         DataFrame que contiene nuestros     DataFrame\n",
        "                   Arreglos WaveFrom\n",
        "    Speakers_df    DataFrame con 1 columna llamada     DataFrame\n",
        "                   \"Speakers_id\" con el objetivo de \n",
        "                   encontrar las posiciones que \n",
        "                   corresponden al id buscado\n",
        "\n",
        "    @Devuelve:     El registro donde viene el audio\n",
        "                   acorde al hablante seleccionado\n",
        "    '''\n",
        "    # extraeremos ids hasta que uno exista\n",
        "    while True:\n",
        "        \n",
        "        # Tal cual se indica en el diccionario 0 es M\n",
        "        if sex == 0 :\n",
        "            # Generamos un Id aleatorio del conjunto Masculino\n",
        "            id = data_Masc['speaker_id'].sample(n=1).iloc[0]\n",
        "        else:\n",
        "            # Generamos un Id aleatorio del conjunto Femenino\n",
        "            id = data_Fem['speaker_id'].sample(n=1).iloc[0]\n",
        "\n",
        "        # Buscamos el registro acorde a nuestro id (aleatorio)\n",
        "        registro = Encuentra_Registro(audios,id,Speakers_df)\n",
        "        \n",
        "        # Si encontramos un registro, salimos\n",
        "        if registro:\n",
        "            break\n",
        "\n",
        "    return registro"
      ],
      "execution_count": 4,
      "outputs": []
    },
    {
      "cell_type": "code",
      "metadata": {
        "id": "6qC-kapMIbFH"
      },
      "source": [
        "def opcion_A(data_Masc,data_Fem, audios, Speakers_df):\n",
        "    '''\n",
        "    @Autor: Jonathan José Martiñón Luna\n",
        "    \n",
        "    @Descripción:  Opción que buscara registros acorde a las \n",
        "                   combinaciones:\n",
        "                   F, M\n",
        "    \n",
        "    @Parámetros:\n",
        "    \n",
        "    data_Masc      DataFrame que contiene los datos    DataFrame\n",
        "                   de los hablantes Masculinos \n",
        "                   (metadatos)\n",
        "    data_Fem       DataFrame que contiene los datos    DataFrame\n",
        "                   de los hablantes Femeninos \n",
        "                   (metadatos)\n",
        "    audios         DataFrame que contiene nuestros     DataFrame\n",
        "                   Arreglos WaveFrom\n",
        "    Speakers_df    DataFrame con 1 columna llamada     DataFrame\n",
        "                   \"Speakers_id\" con el objetivo de \n",
        "                   encontrar las posiciones que \n",
        "                   corresponden al id buscado\n",
        "    \n",
        "    @Devuelve:\n",
        "    \n",
        "    [wave]                 Lista con 1 forma de onda\n",
        "    dic_sex[combinacion]   Distribución de hablantes \"F\" o \"M\"\n",
        "    n_F                    Número de hablantes \"Femeninos\"\n",
        "    '''\n",
        "    \n",
        "    dic_sex = {0:\"M\",1:\"F\"}\n",
        "    \n",
        "    # Seleccionamos una de las 2 posibilidades con igual probabilidad\n",
        "    combinacion = randint(0,1)\n",
        "    \n",
        "    registro = recolecta_registro(combinacion,data_Masc,data_Fem, audios, Speakers_df)\n",
        "    \n",
        "    wave = corta_audio(registro)\n",
        "    \n",
        "    # Número de Fememino   \n",
        "    n_F = dic_sex[combinacion].count(\"F\")\n",
        "    \n",
        "    return [wave], dic_sex[combinacion], n_F"
      ],
      "execution_count": 5,
      "outputs": []
    },
    {
      "cell_type": "code",
      "metadata": {
        "id": "-93D6HG-IbFM"
      },
      "source": [
        "def opcion_B(data_Masc,data_Fem, audios, Speakers_df):\n",
        "    '''\n",
        "\n",
        "    @Autor: Jonathan José Martiñón Luna\n",
        "    \n",
        "    @Descripción:  Opción que buscara registros acorde a las \n",
        "                   combinaciones:\n",
        "                   FF, MM, FM\n",
        "    @Parámetros:\n",
        "    \n",
        "    data_Masc      DataFrame que contiene los datos    DataFrame\n",
        "                   de los hablantes Masculinos \n",
        "                   (metadatos)\n",
        "    data_Fem       DataFrame que contiene los datos    DataFrame\n",
        "                   de los hablantes Femeninos \n",
        "                   (metadatos)\n",
        "    audios         DataFrame que contiene nuestros     DataFrame\n",
        "                   Arreglos WaveFrom\n",
        "    Speakers_df    DataFrame con 1 columna llamada     DataFrame\n",
        "                   \"Speakers_id\" con el objetivo de \n",
        "                   encontrar las posiciones que \n",
        "                   corresponden al id buscado\n",
        "    \n",
        "    @Devuelve:\n",
        "    \n",
        "    [wave]                 Lista con 2 formas de onda\n",
        "    dic_sex[combinacion]   Distribución de hablantes \"FF\", \"MM\" o \"FM\"\n",
        "    n_F                    Número de hablantes \"Femeninos\"\n",
        "    \n",
        "    '''\n",
        "    \n",
        "    dic_sex = {0:\"MM\",1:\"FF\",2:\"MF\"}\n",
        "    \n",
        "    # Seleccionamos una de las 3 posibilidades con igual probabilidad\n",
        "    combinacion = randint(0,2)\n",
        "    \n",
        "    if combinacion == 2:\n",
        "        registro1 = recolecta_registro(1,data_Masc,data_Fem, audios, Speakers_df)\n",
        "        registro2 = recolecta_registro(0,data_Masc,data_Fem, audios, Speakers_df)\n",
        "    else:\n",
        "        registro1 = recolecta_registro(combinacion,data_Masc,data_Fem, audios, Speakers_df)\n",
        "        registro2 = recolecta_registro(combinacion,data_Masc,data_Fem, audios, Speakers_df)\n",
        "        \n",
        "    # Número de Fememino   \n",
        "    n_F = dic_sex[combinacion].count(\"F\")\n",
        "    \n",
        "    wave1 = corta_audio(registro1)\n",
        "    wave2 = corta_audio(registro2)\n",
        "    \n",
        "    return [wave1,wave2], dic_sex[combinacion], n_F"
      ],
      "execution_count": 6,
      "outputs": []
    },
    {
      "cell_type": "code",
      "metadata": {
        "id": "_YhpBjwlIbFU"
      },
      "source": [
        "def opcion_C(data_Masc,data_Fem, audios, Speakers_df):\n",
        "    '''\n",
        "    \n",
        "    @Autor: Jonathan José Martiñón Luna\n",
        "    \n",
        "    @Descripción:  Opción que buscara registros acorde a las \n",
        "                   combinaciones:\n",
        "                   FFF, MMM, MMF, FFM\n",
        "    @Parámetros:\n",
        "    \n",
        "    data_Masc      DataFrame que contiene los datos    DataFrame\n",
        "                   de los hablantes Masculinos \n",
        "                   (metadatos)\n",
        "    data_Fem       DataFrame que contiene los datos    DataFrame\n",
        "                   de los hablantes Femeninos \n",
        "                   (metadatos)\n",
        "    audios         DataFrame que contiene nuestros     DataFrame\n",
        "                   Arreglos WaveFrom\n",
        "    Speakers_df    DataFrame con 1 columna llamada     DataFrame\n",
        "                   \"Speakers_id\" con el objetivo de \n",
        "                   encontrar las posiciones que \n",
        "                   corresponden al id buscado\n",
        "    \n",
        "    @Devuelve:\n",
        "    \n",
        "    [wave]                 Lista con 3 formas de onda\n",
        "    dic_sex[combinacion]   Distribución de hablantes \"FFF\", \"MMM\", \"MMF\", \"FFM\"\n",
        "    n_F                    Número de hablantes \"Femeninos\"\n",
        "    \n",
        "    '''\n",
        "    \n",
        "    dic_sex = {0:\"MMM\",1:\"FFF\",2:\"MMF\",3:\"FFM\"}\n",
        "    \n",
        "    # Seleccionamos una de las 4 posibilidades con igual probabilidad\n",
        "    combinacion = randint(0,3)\n",
        "    \n",
        "    if combinacion == 2:\n",
        "        registro1 = recolecta_registro(1,data_Masc,data_Fem, audios, Speakers_df)\n",
        "        registro2 = recolecta_registro(0,data_Masc,data_Fem, audios, Speakers_df)\n",
        "        registro3 = recolecta_registro(0,data_Masc,data_Fem, audios, Speakers_df)\n",
        "        \n",
        "    elif combinacion == 3:\n",
        "        registro1 = recolecta_registro(1,data_Masc,data_Fem, audios, Speakers_df)\n",
        "        registro2 = recolecta_registro(1,data_Masc,data_Fem, audios, Speakers_df)\n",
        "        registro3 = recolecta_registro(0,data_Masc,data_Fem, audios, Speakers_df)\n",
        "        \n",
        "    else:\n",
        "        registro1 = recolecta_registro(combinacion,data_Masc,data_Fem, audios, Speakers_df)\n",
        "        registro2 = recolecta_registro(combinacion,data_Masc,data_Fem, audios, Speakers_df)\n",
        "        registro3 = recolecta_registro(combinacion,data_Masc,data_Fem, audios, Speakers_df)\n",
        "    \n",
        "    # Número de Fememino   \n",
        "    n_F = dic_sex[combinacion].count(\"F\")\n",
        "    \n",
        "    wave1 = corta_audio(registro1)\n",
        "    wave2 = corta_audio(registro2)\n",
        "    wave3 = corta_audio(registro3)\n",
        "    \n",
        "    # Devolvemos una lista con los 3 audios y la 'marca' del sexo de los hablantes\n",
        "    \n",
        "    return [wave1,wave2,wave3], dic_sex[combinacion], n_F "
      ],
      "execution_count": 7,
      "outputs": []
    },
    {
      "cell_type": "code",
      "metadata": {
        "id": "r6CsR7cDIbFX"
      },
      "source": [
        "def options(op,data_Masc,data_Fem, audios, Speakers_df):\n",
        "    '''\n",
        "    \n",
        "    @Autor: José de Jesús Tapia López\n",
        "    \n",
        "    @Descripción:  Función encargada de fungir como \n",
        "                   switch para la cantidad de hablantes.\n",
        "    \n",
        "    @Parámetros:\n",
        "    \n",
        "    op             Cantidad de hablantes               INT\n",
        "    data_Masc      DataFrame que contiene los datos    DataFrame\n",
        "                   de los hablantes Masculinos \n",
        "                   (metadatos)\n",
        "    data_Fem       DataFrame que contiene los datos    DataFrame\n",
        "                   de los hablantes Femeninos \n",
        "                   (metadatos)\n",
        "    audios         DataFrame que contiene nuestros     DataFrame\n",
        "                   Arreglos WaveFrom\n",
        "    Speakers_df    DataFrame con 1 columna llamada     DataFrame\n",
        "                   \"Speakers_id\" con el objetivo de \n",
        "                   encontrar las posiciones que \n",
        "                   corresponden al id buscado\n",
        "    \n",
        "    @Devuelve:\n",
        "    \n",
        "    waveforms      Lista con las formas de onda (Acorde \n",
        "                   a la cantidad de hablantes)\n",
        "    sexo           Distribución de hablantes \"F\",\"M\",\"FF\", etc.\n",
        "    n_F            Número de hablantes \"Femeninos\"\n",
        "    '''\n",
        "    \n",
        "    if op == 0:    \n",
        "        waveforms, sexo, n_F = opcion_A(data_Masc,data_Fem, audios, Speakers_df)\n",
        "    elif op == 1:\n",
        "        waveforms, sexo, n_F = opcion_B(data_Masc,data_Fem, audios, Speakers_df)\n",
        "    else:\n",
        "        waveforms, sexo, n_F = opcion_C(data_Masc,data_Fem, audios, Speakers_df)\n",
        "        \n",
        "        \n",
        "    return waveforms, sexo, n_F"
      ],
      "execution_count": 8,
      "outputs": []
    },
    {
      "cell_type": "code",
      "metadata": {
        "id": "JNJNTpjuIbFa"
      },
      "source": [
        "def Mezcla(n,audios, data_Masc, data_Fem, Speakers_df):\n",
        "    '''\n",
        "    \n",
        "    @Autor: José de Jesús Tapia López\n",
        "    \n",
        "    @Descripción: Función encargada de realizar una muestra\n",
        "                  con 'n' hablantes a partir de 2 conjuntos\n",
        "                  de datos (Masculino, Femenino)\n",
        "\n",
        "    @Parámetros:\n",
        "\n",
        "    n             Tamaño de hablantes en la muestra        INT\n",
        "    audios        DataFrame que contiene nuestros          DataFrame\n",
        "                  Arreglos WaveFrom\n",
        "    data_Masc     DataFrame que contiene los datos         DataFrame\n",
        "                  de los hablantes Masculinos \n",
        "                  (metadatos)\n",
        "    data_Fem      DataFrame que contiene los datos         DataFrame\n",
        "                  de los hablantes Femeninos \n",
        "                  (metadatos)\n",
        "    Speakers_df   DataFrame que contiene una lista         DataFrame\n",
        "                  de los hablantes acorde a cada\n",
        "                  registro de los datos\n",
        "\n",
        "    @Devuelve:   Tupla de la siguiente forma:\n",
        "                 (Wavefrom_promedio, hablantes, \n",
        "                 sexos_involucrados, Mujeres,\n",
        "                 Hombres)\n",
        "\n",
        "    @Ejemplos:\n",
        "    # Ajustados al presente proyecto\n",
        "\n",
        "    --------------------\n",
        "    # Para 1 hablante\n",
        "    Mezcla(1,data_train,df_speakers_train_clean_100)\n",
        "    --------------------\n",
        "    # Para 2 hablantes\n",
        "    Mezcla(2,data_train,df_speakers_train_clean_100)\n",
        "    --------------------\n",
        "    # Para 3 hablantes\n",
        "    Mezcla(3,data_train,df_speakers_train_clean_100)\n",
        "    '''\n",
        "    \n",
        "    \n",
        "    # Llamamos a la opción acorde al número de hablantes\n",
        "    waveforms, sexo, n_F = options(n-1,data_Masc,data_Fem, audios, Speakers_df)\n",
        "    \n",
        "    # Finalizamos nuestro ciclo. Ya tenemos el conteo de cuántos \n",
        "    # hombres y mujeres hay. Además de tener cada registro de \n",
        "    # Formas de ondas. Promediamos\n",
        "\n",
        "    y = sum(waveforms) / len(waveforms)\n",
        "\n",
        "    # Generamos nuestra tupla\n",
        "    tupla = (y,) +  (n,) + (sexo,) + (n_F,) + (n-n_F,)\n",
        "    \n",
        "\n",
        "    # Devolvemos el registro\n",
        "    return tupla"
      ],
      "execution_count": 9,
      "outputs": []
    },
    {
      "cell_type": "code",
      "metadata": {
        "id": "rb57DJXy2tm2"
      },
      "source": [
        "def Genera_DF_speakers(data):\n",
        "    '''\n",
        "    @Autor: Jonathan José Martiñón Luna\n",
        "    \n",
        "    @Descripción:  Función que generará un DataFrame a partir \n",
        "                   de una lista de tuplas. Únicamente extrae\n",
        "                   los valores que corresponden al id del \n",
        "                   speaker.\n",
        "\n",
        "    @Parámetros:\n",
        "    data           Lista de tuplas que contiene los registros    LIST\n",
        "\n",
        "    @Devuelve:     DataFrame con única columna que corresponde\n",
        "                   al id del speaker, mientras que el índice\n",
        "                   corresponde a su posición en la lista de tuplas.\n",
        "    '''\n",
        "\n",
        "    # Generamos la plantilla que servirá como DataFrame\n",
        "    aux = pd.DataFrame(columns=[\"Speakers_id\"])\n",
        "\n",
        "    # Recorremos cada registro (tupla) de la lista\n",
        "    for i in range(len(data)):\n",
        "        # Extraemos y añadimos la cuarta posición (Correspondiente al id del speaker)\n",
        "        aux.loc[len(aux)] = data[i][3]\n",
        "\n",
        "    # Devolvemos el DF Generado\n",
        "    return aux"
      ],
      "execution_count": 10,
      "outputs": []
    },
    {
      "cell_type": "code",
      "metadata": {
        "id": "Yvv7QnEVIbFq"
      },
      "source": [
        "def almacena_audios(ruta,data,parte):\n",
        "    '''\n",
        "    @Autor: José de Jesús Tapia López\n",
        "\n",
        "    @Descripción:   Función encargada de almacenar los audios\n",
        "                    del conjunto de datos.\n",
        "    @Parámetros:\n",
        "\n",
        "    ruta            Ruta dónde se almacenarán los audios     STR\n",
        "    data            DataFrame con los audios                 DataFrame\n",
        "    parte           Si corresponde a Entrenamiento,          STR\n",
        "                    Validacion o Prueba\n",
        "\n",
        "    @Devuelve:      None\n",
        "    '''\n",
        "    \n",
        "    #Recorremos cada registro de los datos\n",
        "    for i in range(len(data)): \n",
        "        \n",
        "        # Extraemos el audio\n",
        "        audio = data[\"Waveform\"][i]\n",
        "        \n",
        "        # Guardamos en formato wav consecutivo, es decir\n",
        "        # AudioEntrenamiento0.wav, AudioEntrenamiento1.wav,...,AudioEntrenamiento'n'.wav \n",
        "        waves.write(f'{ruta}/Audio_{parte}{i}.wav', 16000, audio)\n",
        "        \n",
        "    print(\"Audios Almacenados!!!\")"
      ],
      "execution_count": 11,
      "outputs": []
    },
    {
      "cell_type": "markdown",
      "metadata": {
        "id": "PlJUY9c0nqy0"
      },
      "source": [
        "# Lectura de Datos"
      ]
    },
    {
      "cell_type": "code",
      "metadata": {
        "id": "8Mat-ocpq0KV"
      },
      "source": [
        "# descargamos los datos de entrenamiento\n",
        "data_train = torchaudio.datasets.LIBRISPEECH(\"./\", url=\"train-clean-100\", download=True)"
      ],
      "execution_count": 32,
      "outputs": []
    },
    {
      "cell_type": "code",
      "metadata": {
        "id": "NeSQ-hvhtIP3"
      },
      "source": [
        "# cantidad de datos de entrenamiento\n",
        "len_data_train = len(data_train)\n",
        "len_data_train"
      ],
      "execution_count": null,
      "outputs": []
    },
    {
      "cell_type": "markdown",
      "metadata": {
        "id": "-BdrwFCe5s96"
      },
      "source": [
        "## Pre-procesamiento"
      ]
    },
    {
      "cell_type": "code",
      "metadata": {
        "colab": {
          "base_uri": "https://localhost:8080/",
          "height": 206
        },
        "id": "ay5FcbUOsi_T",
        "outputId": "9f13dfd3-b40f-4868-b5c4-255a54dd6652"
      },
      "source": [
        "df_speakers2 = pd.read_csv('https://raw.githubusercontent.com/jodejetalo99/Introduccion-al-Aprendizaje-Profundo/main/Proyecto/Metadatos/SPEAKERS.TXT', delimiter='|')\n",
        "df_speakers2.columns = ['speaker_id','SEX','SUBSET','MINUTES','NAME']\n",
        "df_speakers_train_clean_100 = df_speakers2[df_speakers2['SUBSET'] == ' train-clean-100  '].copy().reset_index()\n",
        "df_speakers_train_clean_100.drop(['index','SUBSET','NAME','MINUTES'], axis=1, inplace=True)\n",
        "df_speakers_train_clean_100.head()"
      ],
      "execution_count": 18,
      "outputs": [
        {
          "output_type": "execute_result",
          "data": {
            "text/html": [
              "<div>\n",
              "<style scoped>\n",
              "    .dataframe tbody tr th:only-of-type {\n",
              "        vertical-align: middle;\n",
              "    }\n",
              "\n",
              "    .dataframe tbody tr th {\n",
              "        vertical-align: top;\n",
              "    }\n",
              "\n",
              "    .dataframe thead th {\n",
              "        text-align: right;\n",
              "    }\n",
              "</style>\n",
              "<table border=\"1\" class=\"dataframe\">\n",
              "  <thead>\n",
              "    <tr style=\"text-align: right;\">\n",
              "      <th></th>\n",
              "      <th>speaker_id</th>\n",
              "      <th>SEX</th>\n",
              "    </tr>\n",
              "  </thead>\n",
              "  <tbody>\n",
              "    <tr>\n",
              "      <th>0</th>\n",
              "      <td>19</td>\n",
              "      <td>F</td>\n",
              "    </tr>\n",
              "    <tr>\n",
              "      <th>1</th>\n",
              "      <td>26</td>\n",
              "      <td>M</td>\n",
              "    </tr>\n",
              "    <tr>\n",
              "      <th>2</th>\n",
              "      <td>27</td>\n",
              "      <td>M</td>\n",
              "    </tr>\n",
              "    <tr>\n",
              "      <th>3</th>\n",
              "      <td>32</td>\n",
              "      <td>F</td>\n",
              "    </tr>\n",
              "    <tr>\n",
              "      <th>4</th>\n",
              "      <td>39</td>\n",
              "      <td>F</td>\n",
              "    </tr>\n",
              "  </tbody>\n",
              "</table>\n",
              "</div>"
            ],
            "text/plain": [
              "   speaker_id  SEX\n",
              "0          19   F \n",
              "1          26   M \n",
              "2          27   M \n",
              "3          32   F \n",
              "4          39   F "
            ]
          },
          "metadata": {
            "tags": []
          },
          "execution_count": 18
        }
      ]
    },
    {
      "cell_type": "code",
      "metadata": {
        "colab": {
          "base_uri": "https://localhost:8080/"
        },
        "id": "gCiGR1jSuU2q",
        "outputId": "335ce275-5320-4adf-9c28-7ffb6add9cd7"
      },
      "source": [
        "len_df_speakers_train_clean_100 = len(df_speakers_train_clean_100)\n",
        "len_df_speakers_train_clean_100"
      ],
      "execution_count": 19,
      "outputs": [
        {
          "output_type": "execute_result",
          "data": {
            "text/plain": [
              "251"
            ]
          },
          "metadata": {
            "tags": []
          },
          "execution_count": 19
        }
      ]
    },
    {
      "cell_type": "code",
      "metadata": {
        "id": "q1m_g9lwtgT9"
      },
      "source": [
        "ejemplo = data_train[0][0][0][0:16000].numpy()"
      ],
      "execution_count": null,
      "outputs": []
    },
    {
      "cell_type": "code",
      "metadata": {
        "colab": {
          "base_uri": "https://localhost:8080/",
          "height": 61
        },
        "id": "jYXq57qCxx2l",
        "outputId": "c2026018-c542-46a3-a760-6e620f21c89a"
      },
      "source": [
        "# Reproducimos\n",
        "ip.display.Audio(ejemplo, rate=16000)"
      ],
      "execution_count": null,
      "outputs": [
        {
          "output_type": "execute_result",
          "data": {
            "text/html": [
              "\n",
              "                <audio  controls=\"controls\" >\n",
              "                    <source src=\"data:audio/wav;base64,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\" type=\"audio/wav\" />\n",
              "                    Your browser does not support the audio element.\n",
              "                </audio>\n",
              "              "
            ],
            "text/plain": [
              "<IPython.lib.display.Audio object>"
            ]
          },
          "metadata": {
            "tags": []
          },
          "execution_count": 16
        }
      ]
    },
    {
      "cell_type": "code",
      "metadata": {
        "colab": {
          "base_uri": "https://localhost:8080/"
        },
        "id": "Sn7yGqsnLwJQ",
        "outputId": "5aedece2-fc39-4f6b-ce44-03e6068fd5a2"
      },
      "source": [
        "# Separamos los conjuntos para tener los de mujeres y hombres.\n",
        "\n",
        "data_F = df_speakers_train_clean_100[df_speakers_train_clean_100[\"SEX\"]==\" F \"]\n",
        "data_M = df_speakers_train_clean_100[df_speakers_train_clean_100[\"SEX\"]==\" M \"]\n",
        "\n",
        "# Corroboramos no se omita ninguno\n",
        "print(f\"Total: {len(df_speakers_train_clean_100)}\\tFemenino: {len(data_F)}\\tMasculino:{len(data_M)}\")"
      ],
      "execution_count": null,
      "outputs": [
        {
          "output_type": "stream",
          "text": [
            "Total: 251\tFemenino: 125\tMasculino:126\n"
          ],
          "name": "stdout"
        }
      ]
    },
    {
      "cell_type": "code",
      "metadata": {
        "id": "4j6YHPj24cgl"
      },
      "source": [
        "# Obtenemos los ids de cada registro\n",
        "Speakers_df_1 = Genera_DF_speakers(data_train)"
      ],
      "execution_count": null,
      "outputs": []
    },
    {
      "cell_type": "markdown",
      "metadata": {
        "id": "QOwwwASUn01G"
      },
      "source": [
        "# Generación de Conjunto de entrenamiento"
      ]
    },
    {
      "cell_type": "code",
      "metadata": {
        "colab": {
          "base_uri": "https://localhost:8080/"
        },
        "id": "mONx48Ih_5UO",
        "outputId": "f3ab9542-e0e9-4cd8-bdd3-05d033e7fb40"
      },
      "source": [
        "# Para medir el tiempo que tarda la generación\n",
        "t= time()\n",
        "\n",
        "# Ajustamos la semilla\n",
        "seed(2209)\n",
        "\n",
        "# Cantidad de elementos a generar\n",
        "n = 100000\n",
        "\n",
        "# lista donde vamos a guardar nuestros datos de entrenamiento\n",
        "lista_datos_train = []\n",
        "\n",
        "# Generaremos nuestras n muestras de entrenamiento\n",
        "for i in range(n):\n",
        "    # Generamos un numero aleatorio que puede ser 1, 2 o 3\n",
        "    muestra = randint(1,3)\n",
        "    lista_datos_train.append(Mezcla(muestra,data_train,data_M,data_F,Speakers_df_1))\n",
        "\n",
        "print(\"Tiempo de ejecución: \", time()-t)"
      ],
      "execution_count": null,
      "outputs": [
        {
          "output_type": "stream",
          "text": [
            "Tiempo de ejecución:  3402.5310876369476\n"
          ],
          "name": "stdout"
        }
      ]
    },
    {
      "cell_type": "code",
      "metadata": {
        "id": "iwunq4Os7Fyq"
      },
      "source": [
        "df_train = pd.DataFrame(lista_datos_train, columns=['Waveform', 'Speakers', 'Speakers_Sex', 'F', 'M'])\n",
        "\n",
        "# por proporcion dividimos en 3 dataframes este dataframe para generar estadísticas más\n",
        "# locales de cada subconjunto\n",
        "df_train_1 = df_train[df_train['Speakers'] == 1]\n",
        "df_train_2 = df_train[df_train['Speakers'] == 2]\n",
        "df_train_3 = df_train[df_train['Speakers'] == 3]"
      ],
      "execution_count": null,
      "outputs": []
    },
    {
      "cell_type": "markdown",
      "metadata": {
        "id": "dsIhSGcBn4vD"
      },
      "source": [
        "## Visualización de Resultados"
      ]
    },
    {
      "cell_type": "code",
      "metadata": {
        "colab": {
          "base_uri": "https://localhost:8080/",
          "height": 339
        },
        "id": "99V-R6hzCFjt",
        "outputId": "0f3f54e6-0eb9-43fa-a7b0-ea6953090fec"
      },
      "source": [
        "df_train.groupby('Speakers')['Speakers'].agg(['count']).plot.pie(autopct=\"%.2f%%\", colors = ['cyan', 'orange','pink'], subplots=True, figsize=(5,5), title='Gráfica de pastel de la proporción de Hombres y Mujeres en el Audio', textprops={'fontsize': 14}, legend=False)\n",
        "pylab.ylabel('')\n",
        "plt.show()"
      ],
      "execution_count": null,
      "outputs": [
        {
          "output_type": "display_data",
          "data": {
            "image/png": "[encoded data removed]",
            "text/plain": [
              "<Figure size 360x360 with 1 Axes>"
            ]
          },
          "metadata": {
            "tags": []
          }
        }
      ]
    },
    {
      "cell_type": "code",
      "metadata": {
        "colab": {
          "base_uri": "https://localhost:8080/",
          "height": 339
        },
        "id": "hGJsxiJW78S-",
        "outputId": "44a3c50e-1484-4f2b-f1b1-62e3e7e2ecbc"
      },
      "source": [
        "df_train_1.groupby('Speakers_Sex')['Speakers_Sex'].agg(['count']).plot.pie(autopct=\"%.2f%%\", colors = ['cyan', 'orange'], subplots=True, figsize=(5,5), title='Gráfica de pastel de la proporción de Hombres y Mujeres en el Audio', textprops={'fontsize': 14}, legend=False)\n",
        "pylab.ylabel('')\n",
        "plt.show()"
      ],
      "execution_count": null,
      "outputs": [
        {
          "output_type": "display_data",
          "data": {
            "image/png": "[encoded data removed]",
            "text/plain": [
              "<Figure size 360x360 with 1 Axes>"
            ]
          },
          "metadata": {
            "tags": []
          }
        }
      ]
    },
    {
      "cell_type": "code",
      "metadata": {
        "colab": {
          "base_uri": "https://localhost:8080/",
          "height": 339
        },
        "id": "5OC5vtt_8fYj",
        "outputId": "886851ba-786a-465d-d162-8c6d8be3d68e"
      },
      "source": [
        "df_train_2.groupby('Speakers_Sex')['Speakers_Sex'].agg(['count']).plot.pie(autopct=\"%.2f%%\", colors = ['cyan', 'orange', '#00F55A'], subplots=True, figsize=(5,5), title='Gráfica de pastel de la proporción de Hombres y Mujeres en el Audio', textprops={'fontsize': 14}, legend=False)\n",
        "pylab.ylabel('')\n",
        "plt.show()"
      ],
      "execution_count": null,
      "outputs": [
        {
          "output_type": "display_data",
          "data": {
            "image/png": "[encoded data removed]",
            "text/plain": [
              "<Figure size 360x360 with 1 Axes>"
            ]
          },
          "metadata": {
            "tags": []
          }
        }
      ]
    },
    {
      "cell_type": "code",
      "metadata": {
        "colab": {
          "base_uri": "https://localhost:8080/",
          "height": 339
        },
        "id": "CUJ4jBzI8jOd",
        "outputId": "134dfcfe-218f-4b3c-dc07-5ccbec0ceaaa"
      },
      "source": [
        "df_train_3.groupby('Speakers_Sex')['Speakers_Sex'].agg(['count']).plot.pie(autopct=\"%.2f%%\", \n",
        "                                                                          colors = ['cyan', 'orange', '#00F55A', '#FF91FF'], \n",
        "                                                                          subplots=True, figsize=(5,5), \n",
        "                                                                          title='Gráfica de pastel de la proporción de Hombres y Mujeres en el Audio', \n",
        "                                                                          textprops={'fontsize': 14}, legend=False)\n",
        "pylab.ylabel('')\n",
        "plt.show()"
      ],
      "execution_count": null,
      "outputs": [
        {
          "output_type": "display_data",
          "data": {
            "image/png": "[encoded data removed]",
            "text/plain": [
              "<Figure size 360x360 with 1 Axes>"
            ]
          },
          "metadata": {
            "tags": []
          }
        }
      ]
    },
    {
      "cell_type": "markdown",
      "metadata": {
        "id": "o9myEwOZTsaj"
      },
      "source": [
        "# Generación del conjunto de validación\n",
        "\n",
        "\n"
      ]
    },
    {
      "cell_type": "code",
      "metadata": {
        "id": "oidolkBxT7Dv",
        "outputId": "3c4edf58-f428-4415-8753-ce12df45449f",
        "colab": {
          "base_uri": "https://localhost:8080/",
          "height": 67,
          "referenced_widgets": [
            "fdb22631251c4066837f387a7f4d3b9a",
            "9c9bf60b15b540a7886bf8d6c95beadc",
            "9e5c40b58cbd46f6bbf96d16e4641c6a",
            "1f90cd5fa6484a2da3e988ed8da6a9ee",
            "e6ae766991f6439faf0cde6265db530c",
            "945d3d7f486848d88476b946fbb9134d",
            "2c1447df1e1446e5be1b87eddafd3584",
            "ee60f7034cea441a8b405c20f0de13a7"
          ]
        }
      },
      "source": [
        "# descargamos los datos de validacion\n",
        "data_dev = torchaudio.datasets.LIBRISPEECH(\"./\", url=\"dev-clean\", download=True)"
      ],
      "execution_count": 14,
      "outputs": [
        {
          "output_type": "display_data",
          "data": {
            "application/vnd.jupyter.widget-view+json": {
              "model_id": "fdb22631251c4066837f387a7f4d3b9a",
              "version_minor": 0,
              "version_major": 2
            },
            "text/plain": [
              "HBox(children=(FloatProgress(value=0.0, max=337926286.0), HTML(value='')))"
            ]
          },
          "metadata": {
            "tags": []
          }
        },
        {
          "output_type": "stream",
          "text": [
            "\n"
          ],
          "name": "stdout"
        }
      ]
    },
    {
      "cell_type": "code",
      "metadata": {
        "colab": {
          "base_uri": "https://localhost:8080/"
        },
        "id": "Vd-A-bCmT99D",
        "outputId": "36066ebd-cf3b-4a99-815b-af830a3779bc"
      },
      "source": [
        "# cantidad de datos de validacion\n",
        "len_data_dev = len(data_dev)\n",
        "len_data_dev"
      ],
      "execution_count": 15,
      "outputs": [
        {
          "output_type": "execute_result",
          "data": {
            "text/plain": [
              "2703"
            ]
          },
          "metadata": {
            "tags": []
          },
          "execution_count": 15
        }
      ]
    },
    {
      "cell_type": "code",
      "metadata": {
        "colab": {
          "base_uri": "https://localhost:8080/"
        },
        "id": "hocUy5xeTcRi",
        "outputId": "f8e07c49-6b32-4a43-d982-4062f62e8ed4"
      },
      "source": [
        "# Separamos los conjuntos para tener los de mujeres y hombres.\n",
        "df_speakers_dev_clean = df_speakers2[df_speakers2['SUBSET'] == ' dev-clean        '].copy().reset_index()\n",
        "data_F_2 = df_speakers_dev_clean[df_speakers_dev_clean[\"SEX\"]==\" F \"]\n",
        "data_M_2 = df_speakers_dev_clean[df_speakers_dev_clean[\"SEX\"]==\" M \"]\n",
        "\n",
        "# Corroboramos no se omita ninguno\n",
        "print(f\"Total: {len(data_dev)}\\tFemenino: {len(data_F_2)}\\tMasculino:{len(data_M_2)}\")"
      ],
      "execution_count": 20,
      "outputs": [
        {
          "output_type": "stream",
          "text": [
            "Total: 2703\tFemenino: 20\tMasculino:20\n"
          ],
          "name": "stdout"
        }
      ]
    },
    {
      "cell_type": "code",
      "metadata": {
        "id": "G5vCgmE03pKX"
      },
      "source": [
        "# Obtenemos los ids de cada registro\n",
        "Speakers_df_2 = Genera_DF_speakers(data_dev)"
      ],
      "execution_count": 21,
      "outputs": []
    },
    {
      "cell_type": "code",
      "metadata": {
        "colab": {
          "base_uri": "https://localhost:8080/"
        },
        "id": "eShjwrUJURtB",
        "outputId": "0eb0c6ea-47f6-441a-c617-f8dfb46eb9a7"
      },
      "source": [
        "# Para medir el tiempo que tarda la generación\n",
        "t= time()\n",
        "\n",
        "# Ajustamos la semilla\n",
        "seed(1025)\n",
        "\n",
        "# Cantidad de elementos a generar\n",
        "n = 10000\n",
        "\n",
        "# lista donde vamos a guardar nuestros datos de entrenamiento\n",
        "lista_datos_dev = []\n",
        "\n",
        "# Generaremos nuestras n muestras de entrenamiento\n",
        "for i in range(n):\n",
        "    # Generamos un numero aleatorio que puede ser 1, 2 o 3\n",
        "    muestra_dev = randint(1,3)\n",
        "    lista_datos_dev.append(Mezcla(muestra_dev,data_dev, data_M_2, data_F_2,Speakers_df_2))\n",
        "\n",
        "print(\"Tiempo de ejecución: \", time()-t)"
      ],
      "execution_count": 22,
      "outputs": [
        {
          "output_type": "stream",
          "text": [
            "Tiempo de ejecución:  85.05874800682068\n"
          ],
          "name": "stdout"
        }
      ]
    },
    {
      "cell_type": "code",
      "metadata": {
        "id": "fH28M_pfaKaX"
      },
      "source": [
        "df_dev = pd.DataFrame(lista_datos_dev, columns=['Waveform', 'Speakers', 'Speakers_Sex', 'F', 'M'])\n",
        "\n",
        "# por proporcion dividimos en 3 dataframes este dataframe para generar estadísticas más\n",
        "# locales de cada subconjunto\n",
        "df_dev_1 = df_dev[df_dev['Speakers'] == 1]\n",
        "df_dev_2 = df_dev[df_dev['Speakers'] == 2]\n",
        "df_dev_3 = df_dev[df_dev['Speakers'] == 3]"
      ],
      "execution_count": 23,
      "outputs": []
    },
    {
      "cell_type": "markdown",
      "metadata": {
        "id": "kvjTnAkzaBxK"
      },
      "source": [
        "## Visualización de Resultados"
      ]
    },
    {
      "cell_type": "code",
      "metadata": {
        "colab": {
          "base_uri": "https://localhost:8080/",
          "height": 339
        },
        "id": "wnwK8q_8aCsw",
        "outputId": "f174089b-1b39-4e80-ce32-08f75da14372"
      },
      "source": [
        "df_dev.groupby('Speakers')['Speakers'].agg(['count']).plot.pie(autopct=\"%.2f%%\", colors = ['cyan', 'orange','pink'], subplots=True, figsize=(5,5), title='Gráfica de pastel de la proporción de Hombres y Mujeres en el Audio', textprops={'fontsize': 14}, legend=False)\n",
        "pylab.ylabel('')\n",
        "plt.show()"
      ],
      "execution_count": 24,
      "outputs": [
        {
          "output_type": "display_data",
          "data": {
            "image/png": "[encoded data removed]",
            "text/plain": [
              "<Figure size 360x360 with 1 Axes>"
            ]
          },
          "metadata": {
            "tags": []
          }
        }
      ]
    },
    {
      "cell_type": "code",
      "metadata": {
        "colab": {
          "base_uri": "https://localhost:8080/",
          "height": 339
        },
        "id": "1YZfpU7RaGuw",
        "outputId": "bace583e-7e73-4b03-9b70-277754597a3d"
      },
      "source": [
        "df_dev_1.groupby('Speakers_Sex')['Speakers_Sex'].agg(['count']).plot.pie(autopct=\"%.2f%%\", colors = ['cyan', 'orange'], subplots=True, figsize=(5,5), title='Gráfica de pastel de la proporción de Hombres y Mujeres en el Audio', textprops={'fontsize': 14}, legend=False)\n",
        "pylab.ylabel('')\n",
        "plt.show()"
      ],
      "execution_count": 25,
      "outputs": [
        {
          "output_type": "display_data",
          "data": {
            "image/png": "[encoded data removed]",
            "text/plain": [
              "<Figure size 360x360 with 1 Axes>"
            ]
          },
          "metadata": {
            "tags": []
          }
        }
      ]
    },
    {
      "cell_type": "code",
      "metadata": {
        "colab": {
          "base_uri": "https://localhost:8080/",
          "height": 339
        },
        "id": "Ro-9EmHfajsm",
        "outputId": "b652d93d-ef17-4118-a47b-cb6518d0d013"
      },
      "source": [
        "df_dev_2.groupby('Speakers_Sex')['Speakers_Sex'].agg(['count']).plot.pie(autopct=\"%.2f%%\", colors = ['cyan', 'orange', '#00F55A'], subplots=True, figsize=(5,5), title='Gráfica de pastel de la proporción de Hombres y Mujeres en el Audio', textprops={'fontsize': 14}, legend=False)\n",
        "pylab.ylabel('')\n",
        "plt.show()"
      ],
      "execution_count": 26,
      "outputs": [
        {
          "output_type": "display_data",
          "data": {
            "image/png": "[encoded data removed]",
            "text/plain": [
              "<Figure size 360x360 with 1 Axes>"
            ]
          },
          "metadata": {
            "tags": []
          }
        }
      ]
    },
    {
      "cell_type": "code",
      "metadata": {
        "colab": {
          "base_uri": "https://localhost:8080/",
          "height": 339
        },
        "id": "FAmO9XTzapWm",
        "outputId": "05784621-18bb-48b0-fc72-fa5ba14b5639"
      },
      "source": [
        "df_dev_3.groupby('Speakers_Sex')['Speakers_Sex'].agg(['count']).plot.pie(autopct=\"%.2f%%\", \n",
        "                                                                          colors = ['cyan', 'orange', '#00F55A', '#FF91FF'], \n",
        "                                                                          subplots=True, figsize=(5,5), \n",
        "                                                                          title='Gráfica de pastel de la proporción de Hombres y Mujeres en el Audio', \n",
        "                                                                          textprops={'fontsize': 14}, legend=False)\n",
        "pylab.ylabel('')\n",
        "plt.show()"
      ],
      "execution_count": 33,
      "outputs": [
        {
          "output_type": "display_data",
          "data": {
            "image/png": "[encoded data removed]",
            "text/plain": [
              "<Figure size 360x360 with 1 Axes>"
            ]
          },
          "metadata": {
            "tags": []
          }
        }
      ]
    },
    {
      "cell_type": "markdown",
      "metadata": {
        "id": "6FbnG-ueU1fN"
      },
      "source": [
        "# Generación del conjunto de prueba\n"
      ]
    },
    {
      "cell_type": "code",
      "metadata": {
        "id": "ZYXNagVMU5wL"
      },
      "source": [
        "# descargamos los datos de validacion\n",
        "data_test = torchaudio.datasets.LIBRISPEECH(\"./\", url=\"test-clean\", download=True)"
      ],
      "execution_count": null,
      "outputs": []
    },
    {
      "cell_type": "code",
      "metadata": {
        "colab": {
          "base_uri": "https://localhost:8080/"
        },
        "id": "SzrXQ8aJU7RH",
        "outputId": "b5705b19-17d5-461f-e637-4d48b0a5f7d8"
      },
      "source": [
        "# cantidad de datos de validacion\n",
        "len_data_test = len(data_test)\n",
        "len_data_test"
      ],
      "execution_count": null,
      "outputs": [
        {
          "output_type": "execute_result",
          "data": {
            "text/plain": [
              "2620"
            ]
          },
          "metadata": {
            "tags": []
          },
          "execution_count": 103
        }
      ]
    },
    {
      "cell_type": "code",
      "metadata": {
        "id": "Pnf7-fvW49Tw"
      },
      "source": [
        "# Separamos los conjuntos para tener los de mujeres y hombres.\n",
        "df_speakers_test_clean = df_speakers2[df_speakers2['SUBSET'] == ' test-clean       '].copy().reset_index()\n",
        "data_F_3 = df_speakers_test_clean[df_speakers_test_clean[\"SEX\"]==\" F \"]\n",
        "data_M_3 = df_speakers_test_clean[df_speakers_test_clean[\"SEX\"]==\" M \"]"
      ],
      "execution_count": null,
      "outputs": []
    },
    {
      "cell_type": "code",
      "metadata": {
        "id": "Ie_AwAOP42ay"
      },
      "source": [
        "# Obtenemos los ids de cada registro\n",
        "Speakers_df_3 = Genera_DF_speakers(data_test)"
      ],
      "execution_count": null,
      "outputs": []
    },
    {
      "cell_type": "code",
      "metadata": {
        "colab": {
          "base_uri": "https://localhost:8080/"
        },
        "id": "D4-ujV1fVCeB",
        "outputId": "c68a6803-0acf-4de2-f161-8bee27fc5c46"
      },
      "source": [
        "# Para medir el tiempo que tarda la generación\n",
        "t= time()\n",
        "\n",
        "# Ajustamos la semilla\n",
        "seed(242)\n",
        "\n",
        "# Cantidad de elementos a generar\n",
        "n = 10000\n",
        "\n",
        "# lista donde vamos a guardar nuestros datos de entrenamiento\n",
        "lista_datos_test = []\n",
        "\n",
        "# Generaremos nuestras n muestras de entrenamiento\n",
        "for i in range(n):\n",
        "    # Generamos un numero aleatorio que puede ser 1, 2 o 3\n",
        "    muestra_test = randint(1,3)\n",
        "    lista_datos_test.append(Mezcla(muestra_test,data_test,data_M_3, data_F_3,Speakers_df_3))\n",
        "\n",
        "print(\"Tiempo de ejecución: \", time()-t)"
      ],
      "execution_count": null,
      "outputs": [
        {
          "output_type": "stream",
          "text": [
            "Tiempo de ejecución:  128.94385409355164\n"
          ],
          "name": "stdout"
        }
      ]
    },
    {
      "cell_type": "code",
      "metadata": {
        "id": "1mwOARMua0R1"
      },
      "source": [
        "df_test = pd.DataFrame(lista_datos_dev, columns=['Waveform', 'Speakers', 'Speakers_Sex', 'F', 'M'])\n",
        "\n",
        "# por proporcion dividimos en 3 dataframes este dataframe para generar estadísticas más\n",
        "# locales de cada subconjunto\n",
        "df_test_1 = df_test[df_test['Speakers'] == 1]\n",
        "df_test_2 = df_test[df_test['Speakers'] == 2]\n",
        "df_test_3 = df_test[df_test['Speakers'] == 3]"
      ],
      "execution_count": null,
      "outputs": []
    },
    {
      "cell_type": "markdown",
      "metadata": {
        "id": "C7tGWn35a8rb"
      },
      "source": [
        "## Visualización de Resultados"
      ]
    },
    {
      "cell_type": "code",
      "metadata": {
        "colab": {
          "base_uri": "https://localhost:8080/",
          "height": 339
        },
        "id": "_Si5xNPxa0bg",
        "outputId": "ecd7a494-d6f7-4c87-9d84-27c30fb60e9d"
      },
      "source": [
        "df_test.groupby('Speakers')['Speakers'].agg(['count']).plot.pie(autopct=\"%.2f%%\", colors = ['cyan', 'orange','pink'], subplots=True, figsize=(5,5), title='Gráfica de pastel de la proporción de Hombres y Mujeres en el Audio', textprops={'fontsize': 14}, legend=False)\n",
        "pylab.ylabel('')\n",
        "plt.show()"
      ],
      "execution_count": null,
      "outputs": [
        {
          "output_type": "display_data",
          "data": {
            "image/png": "[encoded data removed]",
            "text/plain": [
              "<Figure size 360x360 with 1 Axes>"
            ]
          },
          "metadata": {
            "tags": []
          }
        }
      ]
    },
    {
      "cell_type": "code",
      "metadata": {
        "colab": {
          "base_uri": "https://localhost:8080/",
          "height": 339
        },
        "id": "4_EjErpBa0lQ",
        "outputId": "191b77dc-c92d-4085-a358-3d26caa11f87"
      },
      "source": [
        "df_test_1.groupby('Speakers_Sex')['Speakers_Sex'].agg(['count']).plot.pie(autopct=\"%.2f%%\", colors = ['cyan', 'orange'], subplots=True, figsize=(5,5), title='Gráfica de pastel de la proporción de Hombres y Mujeres en el Audio', textprops={'fontsize': 14}, legend=False)\n",
        "pylab.ylabel('')\n",
        "plt.show()"
      ],
      "execution_count": null,
      "outputs": [
        {
          "output_type": "display_data",
          "data": {
            "image/png": "[encoded data removed]",
            "text/plain": [
              "<Figure size 360x360 with 1 Axes>"
            ]
          },
          "metadata": {
            "tags": []
          }
        }
      ]
    },
    {
      "cell_type": "code",
      "metadata": {
        "colab": {
          "base_uri": "https://localhost:8080/",
          "height": 339
        },
        "id": "MuPnd1qZa0tP",
        "outputId": "faf41b53-add4-4398-e1d1-9f183e54e066"
      },
      "source": [
        "df_test_2.groupby('Speakers_Sex')['Speakers_Sex'].agg(['count']).plot.pie(autopct=\"%.2f%%\", colors = ['cyan', 'orange', '#00F55A'], subplots=True, figsize=(5,5), title='Gráfica de pastel de la proporción de Hombres y Mujeres en el Audio', textprops={'fontsize': 14}, legend=False)\n",
        "pylab.ylabel('')\n",
        "plt.show()"
      ],
      "execution_count": null,
      "outputs": [
        {
          "output_type": "display_data",
          "data": {
            "image/png": "[encoded data removed]",
            "text/plain": [
              "<Figure size 360x360 with 1 Axes>"
            ]
          },
          "metadata": {
            "tags": []
          }
        }
      ]
    },
    {
      "cell_type": "code",
      "metadata": {
        "colab": {
          "base_uri": "https://localhost:8080/",
          "height": 339
        },
        "id": "A2lCWFHYa02k",
        "outputId": "46aab3d9-2fbb-4dd4-8983-9da06fa99cee"
      },
      "source": [
        "df_test_3.groupby('Speakers_Sex')['Speakers_Sex'].agg(['count']).plot.pie(autopct=\"%.2f%%\", \n",
        "                                                                          colors = ['cyan', 'orange', '#00F55A', '#FF91FF'], \n",
        "                                                                          subplots=True, figsize=(5,5), \n",
        "                                                                          title='Gráfica de pastel de la proporción de Hombres y Mujeres en el Audio', \n",
        "                                                                          textprops={'fontsize': 14}, legend=False)\n",
        "pylab.ylabel('')\n",
        "plt.show()"
      ],
      "execution_count": null,
      "outputs": [
        {
          "output_type": "display_data",
          "data": {
            "image/png": "[encoded data removed]",
            "text/plain": [
              "<Figure size 360x360 with 1 Axes>"
            ]
          },
          "metadata": {
            "tags": []
          }
        }
      ]
    },
    {
      "cell_type": "code",
      "metadata": {
        "colab": {
          "base_uri": "https://localhost:8080/"
        },
        "id": "GsUSvBavXkUd",
        "outputId": "53ef259b-cfb0-4795-e844-28caaeec7b8c"
      },
      "source": [
        "print(\"Contamos con un total de datos:\")\n",
        "print(f\"Entrenamiento: {len(df_train)}\")\n",
        "print(f\"Validación: {len(df_dev)}\")\n",
        "print(f\"Prueba: {len(df_test)}\")"
      ],
      "execution_count": null,
      "outputs": [
        {
          "output_type": "stream",
          "text": [
            "Contamos con un total de datos:\n",
            "Entrenamiento: 100000\n",
            "Validación: 10000\n",
            "Prueba: 10000\n"
          ],
          "name": "stdout"
        }
      ]
    },
    {
      "cell_type": "markdown",
      "metadata": {
        "id": "FxUwh5lWIbHB"
      },
      "source": [
        "# Almacenamos los metadatos"
      ]
    },
    {
      "cell_type": "code",
      "metadata": {
        "id": "5jkfzkwGj_aZ",
        "outputId": "8ef194a5-0391-419f-a186-8ee59b59760f",
        "colab": {
          "base_uri": "https://localhost:8080/"
        }
      },
      "source": [
        "from google.colab import drive\n",
        " \n",
        "drive.mount('/content/drive/')"
      ],
      "execution_count": 30,
      "outputs": [
        {
          "output_type": "stream",
          "text": [
            "Drive already mounted at /content/drive/; to attempt to forcibly remount, call drive.mount(\"/content/drive/\", force_remount=True).\n"
          ],
          "name": "stdout"
        }
      ]
    },
    {
      "cell_type": "code",
      "metadata": {
        "id": "2a5dZzmqIbHC"
      },
      "source": [
        "#df_train.to_csv(\"Entrenamiento.csv\",index=False)\n",
        "df_dev.to_csv(\"drive/My Drive/Intro_Ap_Prof/Proyecto/Validacion.csv\",index=False)\n",
        "#df_test.to_csv(\"Prueba.csv\",index=False)"
      ],
      "execution_count": 28,
      "outputs": []
    },
    {
      "cell_type": "markdown",
      "metadata": {
        "id": "CI-uM2IhIbHG"
      },
      "source": [
        "# Almacenamos los audios"
      ]
    },
    {
      "cell_type": "code",
      "metadata": {
        "id": "IwjtZ1ZVIbHJ",
        "outputId": "4cff8f24-e627-49cc-8fd7-9849fc46d74d"
      },
      "source": [
        "almacena_audios(\"./Entrenamiento\",df_train,\"Train\")"
      ],
      "execution_count": null,
      "outputs": [
        {
          "output_type": "stream",
          "text": [
            "Audios Almacenados!!!\n"
          ],
          "name": "stdout"
        }
      ]
    },
    {
      "cell_type": "code",
      "metadata": {
        "id": "VpzyGEaRIbHK",
        "outputId": "3bebe6d2-1a62-45ab-f70b-0dd198539166"
      },
      "source": [
        "almacena_audios(\"./Prueba\",df_test,\"Test\")"
      ],
      "execution_count": null,
      "outputs": [
        {
          "output_type": "stream",
          "text": [
            "Audios Almacenados!!!\n"
          ],
          "name": "stdout"
        }
      ]
    },
    {
      "cell_type": "code",
      "metadata": {
        "id": "yLeiW5awIbHQ",
        "outputId": "f850de44-3e7f-46c6-a508-1e2de988e462",
        "colab": {
          "base_uri": "https://localhost:8080/"
        }
      },
      "source": [
        "almacena_audios(\"./Validacion\",df_dev,\"Validation\")"
      ],
      "execution_count": 31,
      "outputs": [
        {
          "output_type": "stream",
          "text": [
            "Audios Almacenados!!!\n"
          ],
          "name": "stdout"
        }
      ]
    }
  ]
}