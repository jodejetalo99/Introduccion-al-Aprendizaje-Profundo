{
  "nbformat": 4,
  "nbformat_minor": 0,
  "metadata": {
    "colab": {
      "name": "Proyecto_IAPP_JJTL.ipynb",
      "provenance": [],
      "collapsed_sections": [],
      "include_colab_link": true
    },
    "kernelspec": {
      "name": "python3",
      "display_name": "Python 3"
    },
    "language_info": {
      "name": "python"
    },
    "widgets": {
      "application/vnd.jupyter.widget-state+json": {
        "fa342f1a305e4c989d711edad054a997": {
          "model_module": "@jupyter-widgets/controls",
          "model_name": "HBoxModel",
          "state": {
            "_view_name": "HBoxView",
            "_dom_classes": [],
            "_model_name": "HBoxModel",
            "_view_module": "@jupyter-widgets/controls",
            "_model_module_version": "1.5.0",
            "_view_count": null,
            "_view_module_version": "1.5.0",
            "box_style": "",
            "layout": "IPY_MODEL_6e6c6d18a53342678d0a07c11ecc95d9",
            "_model_module": "@jupyter-widgets/controls",
            "children": [
              "IPY_MODEL_a81df171aa02422b8639b81d2a3fe991",
              "IPY_MODEL_4eaacb9f4b554f5782227f148ecb6f67"
            ]
          }
        },
        "6e6c6d18a53342678d0a07c11ecc95d9": {
          "model_module": "@jupyter-widgets/base",
          "model_name": "LayoutModel",
          "state": {
            "_view_name": "LayoutView",
            "grid_template_rows": null,
            "right": null,
            "justify_content": null,
            "_view_module": "@jupyter-widgets/base",
            "overflow": null,
            "_model_module_version": "1.2.0",
            "_view_count": null,
            "flex_flow": null,
            "width": null,
            "min_width": null,
            "border": null,
            "align_items": null,
            "bottom": null,
            "_model_module": "@jupyter-widgets/base",
            "top": null,
            "grid_column": null,
            "overflow_y": null,
            "overflow_x": null,
            "grid_auto_flow": null,
            "grid_area": null,
            "grid_template_columns": null,
            "flex": null,
            "_model_name": "LayoutModel",
            "justify_items": null,
            "grid_row": null,
            "max_height": null,
            "align_content": null,
            "visibility": null,
            "align_self": null,
            "height": null,
            "min_height": null,
            "padding": null,
            "grid_auto_rows": null,
            "grid_gap": null,
            "max_width": null,
            "order": null,
            "_view_module_version": "1.2.0",
            "grid_template_areas": null,
            "object_position": null,
            "object_fit": null,
            "grid_auto_columns": null,
            "margin": null,
            "display": null,
            "left": null
          }
        },
        "a81df171aa02422b8639b81d2a3fe991": {
          "model_module": "@jupyter-widgets/controls",
          "model_name": "FloatProgressModel",
          "state": {
            "_view_name": "ProgressView",
            "style": "IPY_MODEL_6ebc29177d7f4735baae50f085c57ecb",
            "_dom_classes": [],
            "description": "100%",
            "_model_name": "FloatProgressModel",
            "bar_style": "success",
            "max": 20,
            "_view_module": "@jupyter-widgets/controls",
            "_model_module_version": "1.5.0",
            "value": 20,
            "_view_count": null,
            "_view_module_version": "1.5.0",
            "orientation": "horizontal",
            "min": 0,
            "description_tooltip": null,
            "_model_module": "@jupyter-widgets/controls",
            "layout": "IPY_MODEL_2ff5a78b4a4a43dfb11c49a24382340a"
          }
        },
        "4eaacb9f4b554f5782227f148ecb6f67": {
          "model_module": "@jupyter-widgets/controls",
          "model_name": "HTMLModel",
          "state": {
            "_view_name": "HTMLView",
            "style": "IPY_MODEL_fca1eabf13744270b73dc65ba580ec56",
            "_dom_classes": [],
            "description": "",
            "_model_name": "HTMLModel",
            "placeholder": "​",
            "_view_module": "@jupyter-widgets/controls",
            "_model_module_version": "1.5.0",
            "value": " 20/20 [07:14&lt;00:00, 21.72s/it]",
            "_view_count": null,
            "_view_module_version": "1.5.0",
            "description_tooltip": null,
            "_model_module": "@jupyter-widgets/controls",
            "layout": "IPY_MODEL_b0e99a36008849b9899b3827d68df06d"
          }
        },
        "6ebc29177d7f4735baae50f085c57ecb": {
          "model_module": "@jupyter-widgets/controls",
          "model_name": "ProgressStyleModel",
          "state": {
            "_view_name": "StyleView",
            "_model_name": "ProgressStyleModel",
            "description_width": "initial",
            "_view_module": "@jupyter-widgets/base",
            "_model_module_version": "1.5.0",
            "_view_count": null,
            "_view_module_version": "1.2.0",
            "bar_color": null,
            "_model_module": "@jupyter-widgets/controls"
          }
        },
        "2ff5a78b4a4a43dfb11c49a24382340a": {
          "model_module": "@jupyter-widgets/base",
          "model_name": "LayoutModel",
          "state": {
            "_view_name": "LayoutView",
            "grid_template_rows": null,
            "right": null,
            "justify_content": null,
            "_view_module": "@jupyter-widgets/base",
            "overflow": null,
            "_model_module_version": "1.2.0",
            "_view_count": null,
            "flex_flow": null,
            "width": null,
            "min_width": null,
            "border": null,
            "align_items": null,
            "bottom": null,
            "_model_module": "@jupyter-widgets/base",
            "top": null,
            "grid_column": null,
            "overflow_y": null,
            "overflow_x": null,
            "grid_auto_flow": null,
            "grid_area": null,
            "grid_template_columns": null,
            "flex": null,
            "_model_name": "LayoutModel",
            "justify_items": null,
            "grid_row": null,
            "max_height": null,
            "align_content": null,
            "visibility": null,
            "align_self": null,
            "height": null,
            "min_height": null,
            "padding": null,
            "grid_auto_rows": null,
            "grid_gap": null,
            "max_width": null,
            "order": null,
            "_view_module_version": "1.2.0",
            "grid_template_areas": null,
            "object_position": null,
            "object_fit": null,
            "grid_auto_columns": null,
            "margin": null,
            "display": null,
            "left": null
          }
        },
        "fca1eabf13744270b73dc65ba580ec56": {
          "model_module": "@jupyter-widgets/controls",
          "model_name": "DescriptionStyleModel",
          "state": {
            "_view_name": "StyleView",
            "_model_name": "DescriptionStyleModel",
            "description_width": "",
            "_view_module": "@jupyter-widgets/base",
            "_model_module_version": "1.5.0",
            "_view_count": null,
            "_view_module_version": "1.2.0",
            "_model_module": "@jupyter-widgets/controls"
          }
        },
        "b0e99a36008849b9899b3827d68df06d": {
          "model_module": "@jupyter-widgets/base",
          "model_name": "LayoutModel",
          "state": {
            "_view_name": "LayoutView",
            "grid_template_rows": null,
            "right": null,
            "justify_content": null,
            "_view_module": "@jupyter-widgets/base",
            "overflow": null,
            "_model_module_version": "1.2.0",
            "_view_count": null,
            "flex_flow": null,
            "width": null,
            "min_width": null,
            "border": null,
            "align_items": null,
            "bottom": null,
            "_model_module": "@jupyter-widgets/base",
            "top": null,
            "grid_column": null,
            "overflow_y": null,
            "overflow_x": null,
            "grid_auto_flow": null,
            "grid_area": null,
            "grid_template_columns": null,
            "flex": null,
            "_model_name": "LayoutModel",
            "justify_items": null,
            "grid_row": null,
            "max_height": null,
            "align_content": null,
            "visibility": null,
            "align_self": null,
            "height": null,
            "min_height": null,
            "padding": null,
            "grid_auto_rows": null,
            "grid_gap": null,
            "max_width": null,
            "order": null,
            "_view_module_version": "1.2.0",
            "grid_template_areas": null,
            "object_position": null,
            "object_fit": null,
            "grid_auto_columns": null,
            "margin": null,
            "display": null,
            "left": null
          }
        }
      }
    }
  },
  "cells": [
    {
      "cell_type": "markdown",
      "metadata": {
        "id": "view-in-github",
        "colab_type": "text"
      },
      "source": [
        "<a href=\"https://colab.research.google.com/github/jodejetalo99/Introduccion-al-Aprendizaje-Profundo/blob/main/Proyecto/Proyecto_IAPP_JJTL.ipynb\" target=\"_parent\"><img src=\"https://colab.research.google.com/assets/colab-badge.svg\" alt=\"Open In Colab\"/></a>"
      ]
    },
    {
      "cell_type": "markdown",
      "metadata": {
        "id": "xmuqdPkDD5YZ"
      },
      "source": [
        "\n",
        "# Proyecto: Conteo y clasificación por audio (Basado en redes convolucionales y espectogramas)\n",
        "\n",
        "## Integrantes:\n",
        "- Martiñón Luna Jonathan José\n",
        "- Tapia López José de Jesús\n",
        "\n",
        "## Licenciatura en Ciencia de Datos\n",
        "## Universidad Nacional Autónoma de México \n",
        "\n"
      ]
    },
    {
      "cell_type": "markdown",
      "metadata": {
        "id": "rwxcap81CaEy"
      },
      "source": [
        "---\n",
        "\n",
        "# Librerías\n",
        "\n",
        "---\n"
      ]
    },
    {
      "cell_type": "code",
      "metadata": {
        "colab": {
          "base_uri": "https://localhost:8080/"
        },
        "id": "f0uH15JYrYwW",
        "outputId": "2851ef41-3875-472b-9171-cfdf7f8e67b4"
      },
      "source": [
        "# Colab\n",
        "! pip install torchinfo\n",
        "try:\n",
        "    import torchaudio\n",
        "except:\n",
        "    ! pip install torchaudio"
      ],
      "execution_count": 1,
      "outputs": [
        {
          "output_type": "stream",
          "text": [
            "Collecting torchinfo\n",
            "  Downloading https://files.pythonhosted.org/packages/ef/08/4448486fd0ae1adb086217294a626474bd221b30e32b71f40f3f7de50348/torchinfo-0.1.4-py3-none-any.whl\n",
            "Installing collected packages: torchinfo\n",
            "Successfully installed torchinfo-0.1.4\n",
            "Collecting torchaudio\n",
            "\u001b[?25l  Downloading https://files.pythonhosted.org/packages/aa/55/01ad9244bcd595e39cea5ce30726a7fe02fd963d07daeb136bfe7e23f0a5/torchaudio-0.8.1-cp37-cp37m-manylinux1_x86_64.whl (1.9MB)\n",
            "\u001b[K     |████████████████████████████████| 1.9MB 4.2MB/s \n",
            "\u001b[?25hRequirement already satisfied: torch==1.8.1 in /usr/local/lib/python3.7/dist-packages (from torchaudio) (1.8.1+cu101)\n",
            "Requirement already satisfied: numpy in /usr/local/lib/python3.7/dist-packages (from torch==1.8.1->torchaudio) (1.19.5)\n",
            "Requirement already satisfied: typing-extensions in /usr/local/lib/python3.7/dist-packages (from torch==1.8.1->torchaudio) (3.7.4.3)\n",
            "Installing collected packages: torchaudio\n",
            "Successfully installed torchaudio-0.8.1\n"
          ],
          "name": "stdout"
        }
      ]
    },
    {
      "cell_type": "code",
      "metadata": {
        "id": "jvUsHf-8CXjr"
      },
      "source": [
        "# funciones aleatorias\n",
        "import random\n",
        "# arreglos multidimensionales\n",
        "import numpy as np\n",
        "from google.colab import drive\n",
        "import pandas as pd\n",
        "# Graficos\n",
        "import matplotlib.pyplot as plt\n",
        "# tomar n elementos de una secuencia\n",
        "from itertools import islice as take\n",
        "\n",
        "# Audios\n",
        "from scipy.io import wavfile\n",
        "import librosa\n",
        "import librosa.display\n",
        "import IPython as ip\n",
        "\n",
        "# reproductor\n",
        "import IPython as ip\n",
        "# gráficas\n",
        "import matplotlib.pyplot as plt\n",
        "# arreglos multidimensionales\n",
        "import numpy as np\n",
        "\n",
        "# redes neuronales\n",
        "import torch\n",
        "import torch.nn as nn\n",
        "import torch.nn.functional as F\n",
        "import torch.optim as optim\n",
        "# redes audio\n",
        "import torchaudio\n",
        "import torchaudio.transforms as T\n",
        "# redes visión\n",
        "import torchvision.models as tvm\n",
        "\n",
        "# redes neuronales\n",
        "from torch.utils.data import DataLoader\n",
        "# inspección de arquitectura\n",
        "from torchinfo import summary\n",
        "\n",
        "# barras de progreso\n",
        "from tqdm.auto import trange"
      ],
      "execution_count": 77,
      "outputs": []
    },
    {
      "cell_type": "markdown",
      "metadata": {
        "id": "df7MzCQkCset"
      },
      "source": [
        "---\n",
        "\n",
        "# Funciones\n",
        "\n",
        "---\n"
      ]
    },
    {
      "cell_type": "code",
      "metadata": {
        "id": "r6a2hpP41heS"
      },
      "source": [
        "CLASES = {0:'1 hablante', 1:'2 hablantes', 2:'hablantes'}\n",
        "\n",
        "\n",
        "def set_seed(seed=0):\n",
        "    \"\"\"Initializes pseudo-random number generators.\"\"\"\n",
        "    random.seed(seed)\n",
        "    np.random.seed(seed)\n",
        "    torch.manual_seed(seed)\n",
        "\n",
        "    \n",
        "# reproducibilidad\n",
        "set_seed()"
      ],
      "execution_count": 59,
      "outputs": []
    },
    {
      "cell_type": "markdown",
      "metadata": {
        "id": "ydFYylMwCmcS"
      },
      "source": [
        "---\n",
        "\n",
        "# Pre-procesamiento\n",
        "\n",
        "---\n"
      ]
    },
    {
      "cell_type": "markdown",
      "metadata": {
        "id": "FAsk38duKcnD"
      },
      "source": [
        "## Descarga de datos"
      ]
    },
    {
      "cell_type": "markdown",
      "metadata": {
        "id": "SftxIGmQb3hz"
      },
      "source": [
        "Montamos drive, para realizar la extracción de los datos a utilizar."
      ]
    },
    {
      "cell_type": "code",
      "metadata": {
        "id": "tbifuetnCoNl",
        "colab": {
          "base_uri": "https://localhost:8080/"
        },
        "outputId": "bc3030b1-c727-4573-8e27-bc8a41beddf8"
      },
      "source": [
        "drive.mount('/content/drive/')"
      ],
      "execution_count": 5,
      "outputs": [
        {
          "output_type": "stream",
          "text": [
            "Go to this URL in a browser: https://accounts.google.com/o/oauth2/auth?client_id=947318989803-6bn6qk8qdgf4n4g3pfee6491hc0brc4i.apps.googleusercontent.com&redirect_uri=urn%3aietf%3awg%3aoauth%3a2.0%3aoob&scope=email%20https%3a%2f%2fwww.googleapis.com%2fauth%2fdocs.test%20https%3a%2f%2fwww.googleapis.com%2fauth%2fdrive%20https%3a%2f%2fwww.googleapis.com%2fauth%2fdrive.photos.readonly%20https%3a%2f%2fwww.googleapis.com%2fauth%2fpeopleapi.readonly%20https%3a%2f%2fwww.googleapis.com%2fauth%2fdrive.activity.readonly%20https%3a%2f%2fwww.googleapis.com%2fauth%2fexperimentsandconfigs%20https%3a%2f%2fwww.googleapis.com%2fauth%2fphotos.native&response_type=code\n",
            "\n",
            "Enter your authorization code:\n",
            "4/1AY0e-g5wBycS51C0yblFKDCBvY-D6qZO1qt33VL-M6ZVIq1lqGa9yp3RpV0\n",
            "Mounted at /content/drive/\n"
          ],
          "name": "stdout"
        }
      ]
    },
    {
      "cell_type": "markdown",
      "metadata": {
        "id": "RDS2H8tFY68y"
      },
      "source": [
        "Movemos los archivos a una carpeta específica (`./Data`), para no tener que buscarlos o ingresar la dirección completa"
      ]
    },
    {
      "cell_type": "code",
      "metadata": {
        "id": "VSd8SEQebKt_"
      },
      "source": [
        "#!rm -r \"Data\""
      ],
      "execution_count": null,
      "outputs": []
    },
    {
      "cell_type": "code",
      "metadata": {
        "id": "mvjbI3y6Y6r7"
      },
      "source": [
        "!mkdir \"./Data\"\n",
        "!cp \"drive/MyDrive/Intro_Ap_Prof/Proyecto/Validacion.csv\" \"Data\"\n",
        "!cp \"drive/MyDrive/Intro_Ap_Prof/Proyecto/Entrenamiento.csv\" \"Data\"\n",
        "!cp \"drive/MyDrive/Intro_Ap_Prof/Proyecto/Prueba.csv\" \"Data\""
      ],
      "execution_count": 6,
      "outputs": []
    },
    {
      "cell_type": "code",
      "metadata": {
        "id": "g4gNu65lY3qd"
      },
      "source": [
        "!unzip -q \"drive/My Drive/Intro_Ap_Prof/Proyecto/Audios_Prueba.zip\" -d \"./Data\"\n",
        "!unzip -q \"drive/My Drive/Intro_Ap_Prof/Proyecto/Audios_Validacion.zip\" -d \"./Data\"\n",
        "!unzip -q \"drive/My Drive/Intro_Ap_Prof/Proyecto/Audio_Entrenamiento.zip\" -d \"./Data\""
      ],
      "execution_count": 7,
      "outputs": []
    },
    {
      "cell_type": "markdown",
      "metadata": {
        "id": "pYBuVTAibk6N"
      },
      "source": [
        "Una vez que ya contamos con los archivos necesarios, procedemos a desmontar nuestro drive."
      ]
    },
    {
      "cell_type": "code",
      "metadata": {
        "id": "XLXQRg4lbpI8"
      },
      "source": [
        "drive.flush_and_unmount()"
      ],
      "execution_count": null,
      "outputs": []
    },
    {
      "cell_type": "code",
      "metadata": {
        "colab": {
          "base_uri": "https://localhost:8080/"
        },
        "id": "EncTR502ptlP",
        "outputId": "3e457e01-48a9-4fef-b65c-06b7b9462471"
      },
      "source": [
        "! ls -R {'Data'} | head -20"
      ],
      "execution_count": null,
      "outputs": [
        {
          "output_type": "stream",
          "text": [
            "Data:\n",
            "Entrenamiento\n",
            "Entrenamiento.csv\n",
            "Prueba\n",
            "Prueba.csv\n",
            "Validacion\n",
            "Validacion.csv\n",
            "\n",
            "Data/Entrenamiento:\n",
            "Audio_Train0.wav\n",
            "Audio_Train10000.wav\n",
            "Audio_Train10001.wav\n",
            "Audio_Train10002.wav\n",
            "Audio_Train10003.wav\n",
            "Audio_Train10004.wav\n",
            "Audio_Train10005.wav\n",
            "Audio_Train10006.wav\n",
            "Audio_Train10007.wav\n",
            "Audio_Train10008.wav\n",
            "Audio_Train10009.wav\n"
          ],
          "name": "stdout"
        }
      ]
    },
    {
      "cell_type": "markdown",
      "metadata": {
        "id": "udRDjWzODDgH"
      },
      "source": [
        "## Lectura de datos"
      ]
    },
    {
      "cell_type": "code",
      "metadata": {
        "id": "BPNQ7fX7Crn-"
      },
      "source": [
        "entrenamiento_df = pd.read_csv(\"./Data/Entrenamiento.csv\")\n",
        "validacion_df = pd.read_csv(\"./Data/Validacion.csv\")\n",
        "prueba_df = pd.read_csv(\"./Data/Prueba.csv\")"
      ],
      "execution_count": 8,
      "outputs": []
    },
    {
      "cell_type": "markdown",
      "metadata": {
        "id": "5xpDNNh_7Fta"
      },
      "source": [
        "### Datasets"
      ]
    },
    {
      "cell_type": "code",
      "metadata": {
        "colab": {
          "base_uri": "https://localhost:8080/",
          "height": 224
        },
        "id": "DmZpBBsYcNQN",
        "outputId": "47c40c4d-e0cd-46cd-899c-9e09fdd34bc7"
      },
      "source": [
        "print(f\"Contamos con {str(entrenamiento_df.shape[0])[:3]},{str(entrenamiento_df.shape[0])[3:]} datos de Entrenamiento.\")\n",
        "# cambiamos las etiquetas para que empiecen desde 0\n",
        "# 0: 1 hablante\n",
        "# 1: 2 hablantes\n",
        "# 2: 3 hablantes\n",
        "entrenamiento_df['Speakers_Class'] = entrenamiento_df['Speakers'] - 1\n",
        "entrenamiento_df.head()\n"
      ],
      "execution_count": 19,
      "outputs": [
        {
          "output_type": "stream",
          "text": [
            "Contamos con 100,000 datos de Entrenamiento.\n"
          ],
          "name": "stdout"
        },
        {
          "output_type": "execute_result",
          "data": {
            "text/html": [
              "<div>\n",
              "<style scoped>\n",
              "    .dataframe tbody tr th:only-of-type {\n",
              "        vertical-align: middle;\n",
              "    }\n",
              "\n",
              "    .dataframe tbody tr th {\n",
              "        vertical-align: top;\n",
              "    }\n",
              "\n",
              "    .dataframe thead th {\n",
              "        text-align: right;\n",
              "    }\n",
              "</style>\n",
              "<table border=\"1\" class=\"dataframe\">\n",
              "  <thead>\n",
              "    <tr style=\"text-align: right;\">\n",
              "      <th></th>\n",
              "      <th>Waveform</th>\n",
              "      <th>Speakers</th>\n",
              "      <th>Speakers_Sex</th>\n",
              "      <th>F</th>\n",
              "      <th>M</th>\n",
              "      <th>Speakers_Class</th>\n",
              "    </tr>\n",
              "  </thead>\n",
              "  <tbody>\n",
              "    <tr>\n",
              "      <th>0</th>\n",
              "      <td>[-0.00354004 -0.00354004 -0.00372314 ...  0.00...</td>\n",
              "      <td>1</td>\n",
              "      <td>F</td>\n",
              "      <td>1</td>\n",
              "      <td>0</td>\n",
              "      <td>0</td>\n",
              "    </tr>\n",
              "    <tr>\n",
              "      <th>1</th>\n",
              "      <td>[-0.05560303 -0.03948975 -0.01425171 ...  0.06...</td>\n",
              "      <td>1</td>\n",
              "      <td>M</td>\n",
              "      <td>0</td>\n",
              "      <td>1</td>\n",
              "      <td>0</td>\n",
              "    </tr>\n",
              "    <tr>\n",
              "      <th>2</th>\n",
              "      <td>[0.08041382 0.10652161 0.13059998 ... 0.017501...</td>\n",
              "      <td>2</td>\n",
              "      <td>FF</td>\n",
              "      <td>2</td>\n",
              "      <td>0</td>\n",
              "      <td>1</td>\n",
              "    </tr>\n",
              "    <tr>\n",
              "      <th>3</th>\n",
              "      <td>[0.00216675 0.00177002 0.00131226 ... 0.022705...</td>\n",
              "      <td>1</td>\n",
              "      <td>M</td>\n",
              "      <td>0</td>\n",
              "      <td>1</td>\n",
              "      <td>0</td>\n",
              "    </tr>\n",
              "    <tr>\n",
              "      <th>4</th>\n",
              "      <td>[ 0.0064799   0.00262451  0.00343831 ... -0.00...</td>\n",
              "      <td>3</td>\n",
              "      <td>FFF</td>\n",
              "      <td>3</td>\n",
              "      <td>0</td>\n",
              "      <td>2</td>\n",
              "    </tr>\n",
              "  </tbody>\n",
              "</table>\n",
              "</div>"
            ],
            "text/plain": [
              "                                            Waveform  ...  Speakers_Class\n",
              "0  [-0.00354004 -0.00354004 -0.00372314 ...  0.00...  ...               0\n",
              "1  [-0.05560303 -0.03948975 -0.01425171 ...  0.06...  ...               0\n",
              "2  [0.08041382 0.10652161 0.13059998 ... 0.017501...  ...               1\n",
              "3  [0.00216675 0.00177002 0.00131226 ... 0.022705...  ...               0\n",
              "4  [ 0.0064799   0.00262451  0.00343831 ... -0.00...  ...               2\n",
              "\n",
              "[5 rows x 6 columns]"
            ]
          },
          "metadata": {
            "tags": []
          },
          "execution_count": 19
        }
      ]
    },
    {
      "cell_type": "code",
      "metadata": {
        "colab": {
          "base_uri": "https://localhost:8080/",
          "height": 224
        },
        "id": "J2K-rVLOcPaV",
        "outputId": "851b86b6-6826-4827-a840-fa50613a04c7"
      },
      "source": [
        "print(f\"Contamos con {str(validacion_df.shape[0])[:2]},{str(validacion_df.shape[0])[2:]} datos de Validación.\")\n",
        "# cambiamos las etiquetas para que empiecen desde 0\n",
        "# 0: 1 hablante\n",
        "# 1: 2 hablantes\n",
        "# 2: 3 hablantes\n",
        "validacion_df['Speakers_Class'] = validacion_df['Speakers'] - 1\n",
        "\n",
        "validacion_df.head()"
      ],
      "execution_count": 20,
      "outputs": [
        {
          "output_type": "stream",
          "text": [
            "Contamos con 10,000 datos de Validación.\n"
          ],
          "name": "stdout"
        },
        {
          "output_type": "execute_result",
          "data": {
            "text/html": [
              "<div>\n",
              "<style scoped>\n",
              "    .dataframe tbody tr th:only-of-type {\n",
              "        vertical-align: middle;\n",
              "    }\n",
              "\n",
              "    .dataframe tbody tr th {\n",
              "        vertical-align: top;\n",
              "    }\n",
              "\n",
              "    .dataframe thead th {\n",
              "        text-align: right;\n",
              "    }\n",
              "</style>\n",
              "<table border=\"1\" class=\"dataframe\">\n",
              "  <thead>\n",
              "    <tr style=\"text-align: right;\">\n",
              "      <th></th>\n",
              "      <th>Waveform</th>\n",
              "      <th>Speakers</th>\n",
              "      <th>Speakers_Sex</th>\n",
              "      <th>F</th>\n",
              "      <th>M</th>\n",
              "      <th>Speakers_Class</th>\n",
              "    </tr>\n",
              "  </thead>\n",
              "  <tbody>\n",
              "    <tr>\n",
              "      <th>0</th>\n",
              "      <td>[ 0.0045166   0.00930786 -0.00366211 ...  0.02...</td>\n",
              "      <td>1</td>\n",
              "      <td>M</td>\n",
              "      <td>0</td>\n",
              "      <td>1</td>\n",
              "      <td>0</td>\n",
              "    </tr>\n",
              "    <tr>\n",
              "      <th>1</th>\n",
              "      <td>[ 0.02026367  0.02442932  0.02787781 ... -0.00...</td>\n",
              "      <td>2</td>\n",
              "      <td>MM</td>\n",
              "      <td>0</td>\n",
              "      <td>2</td>\n",
              "      <td>1</td>\n",
              "    </tr>\n",
              "    <tr>\n",
              "      <th>2</th>\n",
              "      <td>[-0.03646851 -0.03983561 -0.04340617 ... -0.03...</td>\n",
              "      <td>3</td>\n",
              "      <td>MMF</td>\n",
              "      <td>1</td>\n",
              "      <td>2</td>\n",
              "      <td>2</td>\n",
              "    </tr>\n",
              "    <tr>\n",
              "      <th>3</th>\n",
              "      <td>[ 0.02868652  0.0123291   0.00295003 ... -0.02...</td>\n",
              "      <td>3</td>\n",
              "      <td>MMM</td>\n",
              "      <td>0</td>\n",
              "      <td>3</td>\n",
              "      <td>2</td>\n",
              "    </tr>\n",
              "    <tr>\n",
              "      <th>4</th>\n",
              "      <td>[0.01849365 0.02142334 0.01538086 ... 0.020345...</td>\n",
              "      <td>3</td>\n",
              "      <td>MMM</td>\n",
              "      <td>0</td>\n",
              "      <td>3</td>\n",
              "      <td>2</td>\n",
              "    </tr>\n",
              "  </tbody>\n",
              "</table>\n",
              "</div>"
            ],
            "text/plain": [
              "                                            Waveform  ...  Speakers_Class\n",
              "0  [ 0.0045166   0.00930786 -0.00366211 ...  0.02...  ...               0\n",
              "1  [ 0.02026367  0.02442932  0.02787781 ... -0.00...  ...               1\n",
              "2  [-0.03646851 -0.03983561 -0.04340617 ... -0.03...  ...               2\n",
              "3  [ 0.02868652  0.0123291   0.00295003 ... -0.02...  ...               2\n",
              "4  [0.01849365 0.02142334 0.01538086 ... 0.020345...  ...               2\n",
              "\n",
              "[5 rows x 6 columns]"
            ]
          },
          "metadata": {
            "tags": []
          },
          "execution_count": 20
        }
      ]
    },
    {
      "cell_type": "code",
      "metadata": {
        "colab": {
          "base_uri": "https://localhost:8080/",
          "height": 224
        },
        "id": "9_bL71QocRnq",
        "outputId": "2ac15019-6ca7-4f29-c5ab-473d0afc9ef0"
      },
      "source": [
        "print(f\"Contamos con {str(prueba_df.shape[0])[:2]},{str(prueba_df.shape[0])[2:]} datos de prueba.\")\n",
        "# cambiamos las etiquetas para que empiecen desde 0\n",
        "# 0: 1 hablante\n",
        "# 1: 2 hablantes\n",
        "# 2: 3 hablantes\n",
        "prueba_df['Speakers_Class'] = prueba_df['Speakers'] - 1\n",
        "prueba_df.head()"
      ],
      "execution_count": 21,
      "outputs": [
        {
          "output_type": "stream",
          "text": [
            "Contamos con 10,000 datos de prueba.\n"
          ],
          "name": "stdout"
        },
        {
          "output_type": "execute_result",
          "data": {
            "text/html": [
              "<div>\n",
              "<style scoped>\n",
              "    .dataframe tbody tr th:only-of-type {\n",
              "        vertical-align: middle;\n",
              "    }\n",
              "\n",
              "    .dataframe tbody tr th {\n",
              "        vertical-align: top;\n",
              "    }\n",
              "\n",
              "    .dataframe thead th {\n",
              "        text-align: right;\n",
              "    }\n",
              "</style>\n",
              "<table border=\"1\" class=\"dataframe\">\n",
              "  <thead>\n",
              "    <tr style=\"text-align: right;\">\n",
              "      <th></th>\n",
              "      <th>Waveform</th>\n",
              "      <th>Speakers</th>\n",
              "      <th>Speakers_Sex</th>\n",
              "      <th>F</th>\n",
              "      <th>M</th>\n",
              "      <th>Speakers_Class</th>\n",
              "    </tr>\n",
              "  </thead>\n",
              "  <tbody>\n",
              "    <tr>\n",
              "      <th>0</th>\n",
              "      <td>[ 0.00117493  0.00216675  0.0037384  ... -0.01...</td>\n",
              "      <td>2</td>\n",
              "      <td>MF</td>\n",
              "      <td>1</td>\n",
              "      <td>1</td>\n",
              "      <td>1</td>\n",
              "    </tr>\n",
              "    <tr>\n",
              "      <th>1</th>\n",
              "      <td>[-3.0517578e-05  1.8310547e-04  2.5939941e-04 ...</td>\n",
              "      <td>2</td>\n",
              "      <td>MF</td>\n",
              "      <td>1</td>\n",
              "      <td>1</td>\n",
              "      <td>1</td>\n",
              "    </tr>\n",
              "    <tr>\n",
              "      <th>2</th>\n",
              "      <td>[-0.03262329 -0.03387451 -0.03366089 ...  0.00...</td>\n",
              "      <td>1</td>\n",
              "      <td>M</td>\n",
              "      <td>0</td>\n",
              "      <td>1</td>\n",
              "      <td>0</td>\n",
              "    </tr>\n",
              "    <tr>\n",
              "      <th>3</th>\n",
              "      <td>[-0.03912354 -0.02819824 -0.02289836 ... -0.10...</td>\n",
              "      <td>3</td>\n",
              "      <td>MMM</td>\n",
              "      <td>0</td>\n",
              "      <td>3</td>\n",
              "      <td>2</td>\n",
              "    </tr>\n",
              "    <tr>\n",
              "      <th>4</th>\n",
              "      <td>[ 0.00628662  0.01490784  0.01811218 ... -0.01...</td>\n",
              "      <td>2</td>\n",
              "      <td>MF</td>\n",
              "      <td>1</td>\n",
              "      <td>1</td>\n",
              "      <td>1</td>\n",
              "    </tr>\n",
              "  </tbody>\n",
              "</table>\n",
              "</div>"
            ],
            "text/plain": [
              "                                            Waveform  ...  Speakers_Class\n",
              "0  [ 0.00117493  0.00216675  0.0037384  ... -0.01...  ...               1\n",
              "1  [-3.0517578e-05  1.8310547e-04  2.5939941e-04 ...  ...               1\n",
              "2  [-0.03262329 -0.03387451 -0.03366089 ...  0.00...  ...               0\n",
              "3  [-0.03912354 -0.02819824 -0.02289836 ... -0.10...  ...               2\n",
              "4  [ 0.00628662  0.01490784  0.01811218 ... -0.01...  ...               1\n",
              "\n",
              "[5 rows x 6 columns]"
            ]
          },
          "metadata": {
            "tags": []
          },
          "execution_count": 21
        }
      ]
    },
    {
      "cell_type": "markdown",
      "metadata": {
        "id": "x2n4NViMnUHB"
      },
      "source": [
        "### Conjunto de datos"
      ]
    },
    {
      "cell_type": "code",
      "metadata": {
        "id": "d7_z3BZvnZRP"
      },
      "source": [
        "# directorio de datos\n",
        "DATA_DIR = 'Data'\n",
        "\n",
        "# tamaño del lote\n",
        "BATCH_SIZE = 32\n",
        "\n",
        "# parámetros de audio\n",
        "SECS = 1\n",
        "SAMPLE_RATE = 16000"
      ],
      "execution_count": 32,
      "outputs": []
    },
    {
      "cell_type": "code",
      "metadata": {
        "id": "pEnT_n7Dtp1c"
      },
      "source": [
        "def identity(x):\n",
        "    return x\n",
        "\n",
        "class Audios:\n",
        "\n",
        "    def __init__(self, subset, dataframe, cantidad_datos, sample_rate):\n",
        "        self.subset = 'Data/'+subset\n",
        "        self.sample_rate = sample_rate\n",
        "        self.cantidad_datos = cantidad_datos\n",
        "        # self.subsubset = 'Data/'+subset+'/'+subsubset\n",
        "        \n",
        "        if self.subset == 'Data/Entrenamiento':\n",
        "          self.audios = [wavfile.read(self.subset+'/Audio_Train'+str(i)+'.wav')[1].reshape(1,-1) for i in range(self.cantidad_datos)]\n",
        "        elif self.subset == 'Data/Validacion':\n",
        "          self.audios = [wavfile.read(self.subset+'/Audio_Validation'+str(i)+'.wav')[1].reshape(1,-1) for i in range(self.cantidad_datos)]\n",
        "        else:\n",
        "          self.audios = [wavfile.read(self.subset+'/Audio_Test'+str(i)+'.wav')[1].reshape(1,-1) for i in range(self.cantidad_datos)]\n",
        "\n",
        "        # leemos el df que contiene a los metadatos\n",
        "        self.df = dataframe\n",
        "\n",
        "        # guardamos nuestra clase correspondiente al numero de hablantes como int\n",
        "        self.speakers_class = self.df['Speakers_Class'].tolist()\n",
        "\n",
        "    def __getitem__(self, i):\n",
        "        # cargamos el audio\n",
        "        audio_i = self.audios[i]\n",
        "        # cargamos sus metadatos\n",
        "        # guardamos numero de hablantes como int\n",
        "        speakers_class_i = self.speakers_class[i]\n",
        "        # sample_rate\n",
        "        sample_rate_i = self.sample_rate\n",
        "        return audio_i, speakers_class_i, sample_rate_i\n",
        "\n",
        "    def __len__(self):\n",
        "        # regresamos numeros de ejemplos\n",
        "        return len(self.audios)\n"
      ],
      "execution_count": 52,
      "outputs": []
    },
    {
      "cell_type": "markdown",
      "metadata": {
        "id": "XwCv-I8rndfw"
      },
      "source": [
        " ### Cargador de datos"
      ]
    },
    {
      "cell_type": "code",
      "metadata": {
        "id": "6H6m1ck5nwl0"
      },
      "source": [
        "def build_dl(subset, dataframe, SAMPLE_RATE=16000, BATCH_SIZE=32, shuffle=False):\n",
        "\n",
        "   # creamos un Dataset\n",
        "    ds = Audios(\n",
        "        subset, #subconjunto de datos\n",
        "        dataframe,\n",
        "        10000, # cantidad de datos del subconjunto\n",
        "        SAMPLE_RATE # en todos es de 16000\n",
        "        )\n",
        "\n",
        "    # creamos un DataLoader\n",
        "    dl = DataLoader(\n",
        "        # conjunto\n",
        "        ds,\n",
        "        # tamaño del lote\n",
        "        batch_size=BATCH_SIZE,\n",
        "        # barajear\n",
        "        shuffle=shuffle,\n",
        "    )\n",
        "    return dl"
      ],
      "execution_count": 53,
      "outputs": []
    },
    {
      "cell_type": "markdown",
      "metadata": {
        "id": "uCi5KHEDomhd"
      },
      "source": [
        "#### Entrenamiento"
      ]
    },
    {
      "cell_type": "code",
      "metadata": {
        "colab": {
          "base_uri": "https://localhost:8080/",
          "height": 374
        },
        "id": "QgpT2nEcooJV",
        "outputId": "9fe9e28e-e681-44ad-e166-8f1e73788872"
      },
      "source": [
        "dl = build_dl(subset='Entrenamiento', dataframe = entrenamiento_df)\n",
        "\n",
        "# desplegamos un lote de audios\n",
        "x, y, sr = next(iter(dl))\n",
        "print(f'x shape={x.shape} dtype={x.dtype}')\n",
        "print(f'y shape={y.shape} dtype={y.dtype}')\n",
        "\n",
        "# inspeccionemos un ejemplo\n",
        "waveform = x[0].squeeze().numpy()\n",
        "label = CLASES[y[0].item()]\n",
        "\n",
        "# grafiquemos forma de onda\n",
        "librosa.display.waveplot(waveform, sr=SAMPLE_RATE)\n",
        "plt.title(f'Forma de onda: {label}')\n",
        "plt.xlabel('tiempo')\n",
        "plt.ylabel('amplitud')\n",
        "plt.show()\n",
        "\n",
        "# reproductor\n",
        "ip.display.Audio(waveform, rate=SAMPLE_RATE)"
      ],
      "execution_count": 69,
      "outputs": [
        {
          "output_type": "stream",
          "text": [
            "x shape=torch.Size([32, 1, 16000]) dtype=torch.float32\n",
            "y shape=torch.Size([32]) dtype=torch.int64\n"
          ],
          "name": "stdout"
        },
        {
          "output_type": "display_data",
          "data": {
            "image/png": "[encoded data removed]",
            "text/plain": [
              "<Figure size 432x288 with 1 Axes>"
            ]
          },
          "metadata": {
            "tags": [],
            "needs_background": "light"
          }
        },
        {
          "output_type": "execute_result",
          "data": {
            "text/html": [
              "\n",
              "                <audio controls=\"controls\" >\n",
              "                    <source src=\"data:audio/wav;base64,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\" type=\"audio/wav\" />\n",
              "                    Your browser does not support the audio element.\n",
              "                </audio>\n",
              "              "
            ],
            "text/plain": [
              "<IPython.lib.display.Audio object>"
            ]
          },
          "metadata": {
            "tags": []
          },
          "execution_count": 69
        }
      ]
    },
    {
      "cell_type": "markdown",
      "metadata": {
        "id": "3l7kWCHuqxsx"
      },
      "source": [
        "#### Validación"
      ]
    },
    {
      "cell_type": "code",
      "metadata": {
        "id": "Sih1cExw9Ofu",
        "colab": {
          "base_uri": "https://localhost:8080/",
          "height": 374
        },
        "outputId": "0092a505-71bc-4914-bdab-077b665e26c8"
      },
      "source": [
        "dl = build_dl(subset='Validacion', dataframe = validacion_df)\n",
        "\n",
        "# desplegamos un lote de audios\n",
        "x, y, sr = next(iter(dl))\n",
        "print(f'x shape={x.shape} dtype={x.dtype}')\n",
        "print(f'y shape={y.shape} dtype={y.dtype}')\n",
        "\n",
        "# inspeccionemos un ejemplo\n",
        "waveform = x[0].squeeze().numpy()\n",
        "label = CLASES[y[0].item()]\n",
        "\n",
        "# grafiquemos forma de onda\n",
        "librosa.display.waveplot(waveform, sr=SAMPLE_RATE)\n",
        "plt.title(f'Forma de onda: {label}')\n",
        "plt.xlabel('tiempo')\n",
        "plt.ylabel('amplitud')\n",
        "plt.show()\n",
        "\n",
        "# reproductor\n",
        "ip.display.Audio(waveform, rate=SAMPLE_RATE)"
      ],
      "execution_count": 68,
      "outputs": [
        {
          "output_type": "stream",
          "text": [
            "x shape=torch.Size([32, 1, 16000]) dtype=torch.float32\n",
            "y shape=torch.Size([32]) dtype=torch.int64\n"
          ],
          "name": "stdout"
        },
        {
          "output_type": "display_data",
          "data": {
            "image/png": "[encoded data removed]",
            "text/plain": [
              "<Figure size 432x288 with 1 Axes>"
            ]
          },
          "metadata": {
            "tags": [],
            "needs_background": "light"
          }
        },
        {
          "output_type": "execute_result",
          "data": {
            "text/html": [
              "\n",
              "                <audio controls=\"controls\" >\n",
              "                    <source src=\"data:audio/wav;base64,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\" type=\"audio/wav\" />\n",
              "                    Your browser does not support the audio element.\n",
              "                </audio>\n",
              "              "
            ],
            "text/plain": [
              "<IPython.lib.display.Audio object>"
            ]
          },
          "metadata": {
            "tags": []
          },
          "execution_count": 68
        }
      ]
    },
    {
      "cell_type": "markdown",
      "metadata": {
        "id": "qG2H10_W4gNh"
      },
      "source": [
        "# Ciclo de entrenamiento\n",
        "\n"
      ]
    },
    {
      "cell_type": "code",
      "metadata": {
        "id": "pMSZ1cevxu6c"
      },
      "source": [
        "def train_epoch(dl, model, opt, device):\n",
        "\n",
        "    # por cada lote\n",
        "    for x, y_true, *_ in dl:\n",
        "\n",
        "        # movemos a dispositivo\n",
        "        x = x.to(device)\n",
        "        y_true = y_true.to(device)\n",
        "\n",
        "        # computamos logits\n",
        "        y_lgts = model(x)\n",
        "\n",
        "        # computamos la pérdida\n",
        "        loss = F.cross_entropy(y_lgts, y_true)\n",
        "\n",
        "        # vaciamos los gradientes\n",
        "        opt.zero_grad()\n",
        "\n",
        "        # retropropagamos\n",
        "        loss.backward()\n",
        "\n",
        "        # actualizamos parámetros\n",
        "        opt.step()\n",
        "\n",
        "\n",
        "def eval_epoch(dl, model, device, num_batches=None):\n",
        "\n",
        "    # evitamos que se registren las operaciones \n",
        "    # en la gráfica de cómputo\n",
        "    with torch.no_grad():\n",
        "\n",
        "        # historiales\n",
        "        losses, accs = [], []\n",
        "\n",
        "        # validación de la época con num_batches\n",
        "        # si num_batches==None, se usan todos los lotes\n",
        "        for x, y_true, *_ in take(dl, num_batches):\n",
        "\n",
        "            # movemos a dispositivo\n",
        "            x = x.to(device)\n",
        "            y_true = y_true.to(device)\n",
        "\n",
        "            # computamos los logits\n",
        "            y_lgts = model(x)\n",
        "\n",
        "            # computamos los puntajes\n",
        "            y_prob = F.softmax(y_lgts, 1)\n",
        "\n",
        "            # computamos la clases\n",
        "            y_pred = torch.argmax(y_prob, 1)\n",
        "\n",
        "            # computamos la pérdida\n",
        "            loss = F.cross_entropy(y_lgts, y_true)\n",
        "\n",
        "            # computamos la exactitud\n",
        "            acc = (y_true == y_pred).type(torch.float32).mean()\n",
        "\n",
        "            # guardamos históricos\n",
        "            losses.append(loss.item())\n",
        "            accs.append(acc.item())\n",
        "\n",
        "        # promediamos\n",
        "        loss = np.mean(losses) * 100\n",
        "        acc = np.mean(accs) * 100\n",
        "\n",
        "        return loss, acc\n",
        "        \n",
        "        \n",
        "def train(model, trn_dl, tst_dl, lr=1e-4, epochs=20,\n",
        "          trn_batches=None, tst_batches=None):\n",
        "\n",
        "    # historiales\n",
        "    loss_hist, acc_hist = [], []\n",
        "    \n",
        "    # optimizador\n",
        "    opt = optim.Adam(model.parameters(), lr=lr)\n",
        "\n",
        "    # usamos GPU si está disponible\n",
        "    device = torch.device('cuda' if torch.cuda.is_available() else 'cpu')\n",
        "    # movemos a dispositivo\n",
        "    model.to(device)\n",
        "\n",
        "    # ciclo de entrenamiento\n",
        "    for epoch in trange(epochs):\n",
        "\n",
        "        # modelo en modo de entrenamiento\n",
        "        model.train()\n",
        "        # entrenamos la época\n",
        "        train_epoch(trn_dl, model, opt, device)\n",
        "\n",
        "        # modelo en modo de evaluación\n",
        "        model.eval()\n",
        "        # evaluamos la época en entrenamiento\n",
        "        trn_loss, trn_acc = eval_epoch(trn_dl, model, device, trn_batches)\n",
        "        # evaluamos la época en prueba\n",
        "        tst_loss, tst_acc = eval_epoch(tst_dl, model, device, tst_batches)\n",
        "\n",
        "        # guardamos historial\n",
        "        loss_hist.append([trn_loss, tst_loss])\n",
        "        acc_hist.append([trn_acc, tst_acc])\n",
        "\n",
        "        # imprimimos progreso\n",
        "        print(f'E{epoch:02} '\n",
        "              f'loss=[{trn_loss:6.2f},{tst_loss:6.2f}] '\n",
        "              f'acc=[{trn_acc:5.2f},{tst_acc:5.2f}]')\n",
        "\n",
        "    return loss_hist, acc_hist"
      ],
      "execution_count": 78,
      "outputs": []
    },
    {
      "cell_type": "markdown",
      "metadata": {
        "id": "Rbu8EVU2x35g"
      },
      "source": [
        "# Arquitectura\n",
        "\n",
        "El siguiente diseño es una versión simplificada de la arquitectura M5 presentada [ Dai. y col. en Very Deep Convolutional Neural Networks for Raw Waveforms](https://arxiv.org/abs/1610.00087)\n",
        "\n"
      ]
    },
    {
      "cell_type": "code",
      "metadata": {
        "colab": {
          "base_uri": "https://localhost:8080/"
        },
        "id": "0ILt284fx0m_",
        "outputId": "53276901-041d-41d4-c3b9-a28e959325ba"
      },
      "source": [
        "class M5B2(nn.Module):\n",
        "\n",
        "    def __init__(self, n_in_channels=1, n_classes=3, \n",
        "                 stride=16, n_channel=32):\n",
        "        super().__init__()\n",
        "\n",
        "        self.cnn = nn.Sequential(\n",
        "\n",
        "            # bloque conv 1\n",
        "            nn.Conv1d(in_channels=n_in_channels, \n",
        "                      out_channels=n_channel, \n",
        "                      kernel_size=80, stride=stride),\n",
        "            nn.BatchNorm1d(num_features=n_channel),\n",
        "            nn.ReLU(),\n",
        "            nn.MaxPool1d(kernel_size=4, stride=4),\n",
        "\n",
        "            # bloque conv 2\n",
        "            nn.Conv1d(in_channels=n_channel, \n",
        "                      out_channels=n_channel, \n",
        "                      kernel_size=3),\n",
        "            nn.BatchNorm1d(num_features=n_channel),\n",
        "            nn.ReLU(),\n",
        "            nn.MaxPool1d(kernel_size=4, stride=4),\n",
        "\n",
        "        )\n",
        "\n",
        "        self.pool = nn.AdaptiveAvgPool1d(1)\n",
        "        self.flat = nn.Flatten()\n",
        "        self.fc = nn.Linear(n_channel, n_classes)\n",
        "\n",
        "\n",
        "    def forward(self, x):\n",
        "        x = self.cnn(x)\n",
        "        x = self.pool(x)\n",
        "        x = self.flat(x)\n",
        "        x = self.fc(x)\n",
        "        return x\n",
        "\n",
        "\n",
        "def build_m5b2():\n",
        "    return M5B2()\n",
        "\n",
        "m5b2 = build_m5b2()\n",
        "m5b2"
      ],
      "execution_count": 79,
      "outputs": [
        {
          "output_type": "execute_result",
          "data": {
            "text/plain": [
              "M5B2(\n",
              "  (cnn): Sequential(\n",
              "    (0): Conv1d(1, 32, kernel_size=(80,), stride=(16,))\n",
              "    (1): BatchNorm1d(32, eps=1e-05, momentum=0.1, affine=True, track_running_stats=True)\n",
              "    (2): ReLU()\n",
              "    (3): MaxPool1d(kernel_size=4, stride=4, padding=0, dilation=1, ceil_mode=False)\n",
              "    (4): Conv1d(32, 32, kernel_size=(3,), stride=(1,))\n",
              "    (5): BatchNorm1d(32, eps=1e-05, momentum=0.1, affine=True, track_running_stats=True)\n",
              "    (6): ReLU()\n",
              "    (7): MaxPool1d(kernel_size=4, stride=4, padding=0, dilation=1, ceil_mode=False)\n",
              "  )\n",
              "  (pool): AdaptiveAvgPool1d(output_size=1)\n",
              "  (flat): Flatten(start_dim=1, end_dim=-1)\n",
              "  (fc): Linear(in_features=32, out_features=3, bias=True)\n",
              ")"
            ]
          },
          "metadata": {
            "tags": []
          },
          "execution_count": 79
        }
      ]
    },
    {
      "cell_type": "code",
      "metadata": {
        "colab": {
          "base_uri": "https://localhost:8080/"
        },
        "id": "hr0G0NDQyS5H",
        "outputId": "e3446b5c-7353-4e61-f26c-01ae4cf39069"
      },
      "source": [
        "x = torch.zeros(1, 1, 16000)\n",
        "y = m5b2(x)\n",
        "print(f'{x.shape} => {y.shape}')"
      ],
      "execution_count": 80,
      "outputs": [
        {
          "output_type": "stream",
          "text": [
            "torch.Size([1, 1, 16000]) => torch.Size([1, 3])\n"
          ],
          "name": "stdout"
        }
      ]
    },
    {
      "cell_type": "code",
      "metadata": {
        "colab": {
          "base_uri": "https://localhost:8080/"
        },
        "id": "05t5Q0p1yW--",
        "outputId": "89ab830c-9436-4555-e7ad-039272e2f33b"
      },
      "source": [
        "summary(m5b2, (1, 1, 16000), device='cpu', verbose=0,\n",
        "        col_names=['input_size', 'output_size', 'num_params'])"
      ],
      "execution_count": 81,
      "outputs": [
        {
          "output_type": "execute_result",
          "data": {
            "text/plain": [
              "===================================================================================================================\n",
              "Layer (type:depth-idx)                   Input Shape               Output Shape              Param #\n",
              "===================================================================================================================\n",
              "M5B2                                     --                        --                        --\n",
              "├─Sequential: 1-1                        [1, 1, 16000]             [1, 32, 61]               --\n",
              "│    └─Conv1d: 2-1                       [1, 1, 16000]             [1, 32, 996]              2,592\n",
              "│    └─BatchNorm1d: 2-2                  [1, 32, 996]              [1, 32, 996]              64\n",
              "│    └─ReLU: 2-3                         [1, 32, 996]              [1, 32, 996]              --\n",
              "│    └─MaxPool1d: 2-4                    [1, 32, 996]              [1, 32, 249]              --\n",
              "│    └─Conv1d: 2-5                       [1, 32, 249]              [1, 32, 247]              3,104\n",
              "│    └─BatchNorm1d: 2-6                  [1, 32, 247]              [1, 32, 247]              64\n",
              "│    └─ReLU: 2-7                         [1, 32, 247]              [1, 32, 247]              --\n",
              "│    └─MaxPool1d: 2-8                    [1, 32, 247]              [1, 32, 61]               --\n",
              "├─AdaptiveAvgPool1d: 1-2                 [1, 32, 61]               [1, 32, 1]                --\n",
              "├─Flatten: 1-3                           [1, 32, 1]                [1, 32]                   --\n",
              "├─Linear: 1-4                            [1, 32]                   [1, 3]                    99\n",
              "===================================================================================================================\n",
              "Total params: 5,923\n",
              "Trainable params: 5,923\n",
              "Non-trainable params: 0\n",
              "Total mult-adds (M): 3.35\n",
              "===================================================================================================================\n",
              "Input size (MB): 0.06\n",
              "Forward/backward pass size (MB): 0.64\n",
              "Params size (MB): 0.02\n",
              "Estimated Total Size (MB): 0.72\n",
              "==================================================================================================================="
            ]
          },
          "metadata": {
            "tags": []
          },
          "execution_count": 81
        }
      ]
    },
    {
      "cell_type": "markdown",
      "metadata": {
        "id": "KSzX2MCKydIm"
      },
      "source": [
        "### Entrenamiento"
      ]
    },
    {
      "cell_type": "code",
      "metadata": {
        "id": "uYXrJD2JyYxM"
      },
      "source": [
        "def train_model(build_model, lr=1e-4, epochs=20):\n",
        "    set_seed()\n",
        "    trn_dl = build_dl(subset='Entrenamiento', dataframe = entrenamiento_df)\n",
        "    val_dl = build_dl(subset='Validacion', dataframe = validacion_df)\n",
        "    model = build_model()\n",
        "    loss_hist, acc_hist = train(\n",
        "        model, trn_dl, val_dl, lr=lr, epochs=epochs)\n",
        "\n"
      ],
      "execution_count": 82,
      "outputs": []
    },
    {
      "cell_type": "code",
      "metadata": {
        "colab": {
          "base_uri": "https://localhost:8080/",
          "height": 426,
          "referenced_widgets": [
            "fa342f1a305e4c989d711edad054a997",
            "6e6c6d18a53342678d0a07c11ecc95d9",
            "a81df171aa02422b8639b81d2a3fe991",
            "4eaacb9f4b554f5782227f148ecb6f67",
            "6ebc29177d7f4735baae50f085c57ecb",
            "2ff5a78b4a4a43dfb11c49a24382340a",
            "fca1eabf13744270b73dc65ba580ec56",
            "b0e99a36008849b9899b3827d68df06d"
          ]
        },
        "id": "rrV5U1cUyxzd",
        "outputId": "4018d16e-ae6e-4d37-b303-8b2f23d9234c"
      },
      "source": [
        "train_model(build_model=build_m5b2)"
      ],
      "execution_count": 83,
      "outputs": [
        {
          "output_type": "display_data",
          "data": {
            "application/vnd.jupyter.widget-view+json": {
              "model_id": "fa342f1a305e4c989d711edad054a997",
              "version_minor": 0,
              "version_major": 2
            },
            "text/plain": [
              "HBox(children=(FloatProgress(value=0.0, max=20.0), HTML(value='')))"
            ]
          },
          "metadata": {
            "tags": []
          }
        },
        {
          "output_type": "stream",
          "text": [
            "E00 loss=[ 99.62,101.32] acc=[53.70,51.31]\n",
            "E01 loss=[ 95.44, 97.47] acc=[58.30,56.63]\n",
            "E02 loss=[ 93.01, 95.85] acc=[59.53,57.27]\n",
            "E03 loss=[ 90.76, 94.36] acc=[61.37,58.15]\n",
            "E04 loss=[ 88.56, 93.06] acc=[63.06,58.87]\n",
            "E05 loss=[ 86.25, 91.68] acc=[64.49,60.19]\n",
            "E06 loss=[ 83.91, 90.53] acc=[65.79,61.33]\n",
            "E07 loss=[ 81.11, 89.54] acc=[66.69,61.97]\n",
            "E08 loss=[ 78.50, 87.96] acc=[67.85,63.53]\n",
            "E09 loss=[ 76.46, 86.78] acc=[68.69,64.70]\n",
            "E10 loss=[ 74.23, 85.16] acc=[69.36,65.68]\n",
            "E11 loss=[ 72.66, 83.88] acc=[69.77,66.62]\n",
            "E12 loss=[ 71.45, 83.06] acc=[69.97,67.11]\n",
            "E13 loss=[ 70.47, 82.72] acc=[70.30,67.36]\n",
            "E14 loss=[ 69.59, 82.24] acc=[70.65,67.77]\n",
            "E15 loss=[ 68.73, 81.30] acc=[70.83,68.48]\n",
            "E16 loss=[ 67.90, 80.59] acc=[71.27,68.84]\n",
            "E17 loss=[ 67.27, 80.22] acc=[71.31,69.12]\n",
            "E18 loss=[ 66.92, 80.50] acc=[71.56,69.13]\n",
            "E19 loss=[ 66.28, 80.06] acc=[71.76,69.46]\n",
            "\n"
          ],
          "name": "stdout"
        }
      ]
    }
  ]
}